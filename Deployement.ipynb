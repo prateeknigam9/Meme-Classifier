{
  "nbformat": 4,
  "nbformat_minor": 0,
  "metadata": {
    "colab": {
      "name": "Deployement.ipynb",
      "provenance": [],
      "collapsed_sections": [],
      "include_colab_link": true
    },
    "kernelspec": {
      "name": "python3",
      "display_name": "Python 3"
    },
    "language_info": {
      "name": "python"
    },
    "accelerator": "GPU"
  },
  "cells": [
    {
      "cell_type": "markdown",
      "metadata": {
        "id": "view-in-github",
        "colab_type": "text"
      },
      "source": [
        "<a href=\"https://colab.research.google.com/github/prateeknigam9/Meme-classifier/blob/main/Deployement.ipynb\" target=\"_parent\"><img src=\"https://colab.research.google.com/assets/colab-badge.svg\" alt=\"Open In Colab\"/></a>"
      ]
    },
    {
      "cell_type": "code",
      "metadata": {
        "colab": {
          "base_uri": "https://localhost:8080/"
        },
        "id": "DNh7FEMNac8c",
        "outputId": "ee558dbe-72e1-422a-cbf3-07e36ea97f6d"
      },
      "source": [
        "from google.colab import drive\n",
        "drive.mount('/content/drive')\n",
        "# %cd '/content/drive/MyDrive/Colab Notebooks/Case_study2/data'\n",
        "!mkdir /content/test_cases/"
      ],
      "execution_count": null,
      "outputs": [
        {
          "output_type": "stream",
          "text": [
            "Mounted at /content/drive\n"
          ],
          "name": "stdout"
        }
      ]
    },
    {
      "cell_type": "code",
      "metadata": {
        "id": "ujBmXpo7Uytr",
        "colab": {
          "base_uri": "https://localhost:8080/"
        },
        "outputId": "d26d9f94-f2f7-4176-93b4-609ac143672a"
      },
      "source": [
        "!curl -LkO https://raw.githubusercontent.com/remoteit/installer/master/scripts/auto-install.sh\n",
        "! chmod +x ./auto-install.sh\n",
        "! sudo ./auto-install.sh"
      ],
      "execution_count": null,
      "outputs": [
        {
          "output_type": "stream",
          "text": [
            "  % Total    % Received % Xferd  Average Speed   Time    Time     Time  Current\n",
            "                                 Dload  Upload   Total   Spent    Left  Speed\n",
            "\r  0     0    0     0    0     0      0      0 --:--:-- --:--:-- --:--:--     0\r100 12956  100 12956    0     0  67832      0 --:--:-- --:--:-- --:--:-- 67832\n",
            "\n",
            " curl found \n",
            "********************************************************\n",
            "remote.it platform and binary tester version 2.5.38 \n",
            "Current directory /content\n",
            "Tue Apr 13 13:41:33 UTC 2021\n",
            "********************************************************\n",
            "Linux e122a3759df9 4.19.112+ #1 SMP Thu Jul 23 08:00:38 PDT 2020 x86_64 x86_64 x86_64 GNU/Linux\n",
            "Detected architecture is x86_64\n",
            "/usr/bin/dpkg\n",
            "Debian OS detected.\n",
            "amd64 architecture detected.\n",
            "\n",
            "Downloading and testing connectd.x86_64-ubuntu16.04...\n",
            "Looks compatible.\n",
            "connectd.x86_64-ubuntu16.04 is compatible!\n",
            "filename connectd_2.5.38_amd64.deb\n",
            "filepath https://github.com/remoteit/installer/releases/download/v2.5.38/connectd_2.5.38_amd64.deb\n",
            "Selecting previously unselected package connectd.\n",
            "(Reading database ... 160983 files and directories currently installed.)\n",
            "Preparing to unpack connectd_2.5.38_amd64.deb ...\n",
            "Unpacking connectd (2.5.38) ...\n",
            "Setting up connectd (2.5.38) ...\n",
            "\n",
            "================================================================================\n",
            "Run \"sudo connectd_installer\" to interactively install remote.it Services on this device.\n",
            "\n",
            "See https://docs.remote.it for more information.\n",
            "\n",
            "================================================================================\n"
          ],
          "name": "stdout"
        }
      ]
    },
    {
      "cell_type": "code",
      "metadata": {
        "id": "eZ7E1eqyU1Vn",
        "colab": {
          "base_uri": "https://localhost:8080/"
        },
        "outputId": "c0fed3f2-8ee4-4297-a708-7e6da18d6f9f"
      },
      "source": [
        "! sudo connectd_installer"
      ],
      "execution_count": null,
      "outputs": [
        {
          "output_type": "stream",
          "text": [
            "/usr/bin/connectd_installer: 67: /usr/bin/connectd_options: ip: not found\n",
            "\n",
            "remote.it connection installer Version: 2.5.38 lib_v2.1.26 \n",
            "Modified: June 10, 2020 (library) November 10, 2020 \n",
            "Build date: Thu Nov 12 17:55:43 UTC 2020\n",
            "curl with SSL support installed.\n",
            "\n",
            "Checking the daemon for compatibility... \n",
            "\n",
            "Using architecture x86_64-ubuntu16.04...\n",
            "\n",
            "Checking your network for compatibility... \n",
            "\n",
            "Network connection OK...\n",
            "Your network is compatible with remote.it services.\n",
            "\n",
            "********************* Sign In Menu *********************\n",
            "                                                      \n",
            "     1) Sign in to your remote.it account    \n",
            "     2) Exit                                          \n",
            "                                                      \n",
            "********************************************************\n",
            "\n",
            "Choose a menu selection (1 - 2):\n",
            "1\n",
            "\n",
            "Please enter your remote.it Username (e-mail address): \n",
            "prateeknigam9@gmail.com\n",
            "\n",
            "Please enter your remote.it password: \n",
            ".\n",
            "/usr/bin/connectd_installer: 238: /usr/bin/connectd_installer: ip: not found\n",
            "..Created symlink /etc/systemd/system/multi-user.target.wants/connectd.service → /lib/systemd/system/connectd.service.\n",
            "Created symlink /etc/systemd/system/multi-user.target.wants/connectd_schannel.service → /lib/systemd/system/connectd_schannel.service.\n",
            "System has not been booted with systemd as init system (PID 1). Can't operate.\n",
            "System has not been booted with systemd as init system (PID 1). Can't operate.\n",
            "..\n",
            "==========================================\n",
            "Allocated UID: 80:00:00:00:01:0B:66:ED. \n",
            "\n",
            "..\n",
            "\n",
            "Enter a name for your device (e.g. my_Pi_001).\n",
            "\n",
            "The Device Name identifies your device in the remote.it portal.\n",
            "Your services will be grouped under the Device Name.\n",
            "\n",
            "Only letters, numbers, underscore, space and dash are allowed.\n",
            "\n",
            "notebook\n",
            ".\n",
            "Registering notebook\n",
            ".......\n",
            "\n",
            "/usr/bin/Connectdrmt365535: 67: /usr/bin/connectd_options: ip: not found\n",
            "System has not been booted with systemd as init system (PID 1). Can't operate.\n",
            "\n",
            "\n",
            "=========================  Installed remote.it Services  ======================\n",
            " Service Name       | Protocol   | LAN Address        | Port | Application     \n",
            "-------------------------------------------------------------------------------\n",
            "-------------------------------------------------------------------------------\n",
            " Device Name: notebook  Platform: x86_64-ubuntu16.04\n",
            " Hardware ID: -Pr6bemfHpTfVGyWjWcRg\n",
            "\n",
            "============================ Main Menu ============================\n",
            "                                                                   \n",
            "    1) Attach/reinstall a remote.it Service to an application      \n",
            "    2) Attach/reinstall a remote.it Service to a LAN application   \n",
            "    3) Remove a remote.it Service from an application              \n",
            "    4) Remove all remote.it Services, then exit                    \n",
            "    5) Exit                                                        \n",
            "                                                                   \n",
            "===================================================================\n",
            "    'application' is any TCP service (e.g. SSH, VNC, HTTP, etc.)   \n",
            "    running on this device.  'LAN application' is a TCP service    \n",
            "    running on another device on this LAN.                         \n",
            "===================================================================\n",
            "Choose a menu selection (1 - 5):\n",
            "1\n",
            "\n",
            "\n",
            "*********** Protocol Selection Menu ***********\n",
            "                                             \n",
            "     1) SSH on port 22                       \n",
            "     2) Web (HTTP) on port 80                \n",
            "     3) Secure Web (HTTPS) on port 443       \n",
            "     4) VNC on port 5900                     \n",
            "     5) nxWitness on port 7001               \n",
            "     6) Samba (SMB) on port 445              \n",
            "     7) Remote Desktop (RDP) on port 3389    \n",
            "     8) NextCloud on port 443                \n",
            "     9) OpenVPN on port 1194                 \n",
            "     10) Custom (TCP)                        \n",
            "     11) Return to previous menu             \n",
            "                                             \n",
            "***********************************************\n",
            "\n",
            " You can change the port value during install  \n",
            "\n",
            "***********************************************\n",
            "\n",
            "Choose a menu selection (1 - 11):\n",
            "2\n",
            "\n",
            "The default port for Web (http) is 80.\n",
            "\n",
            "Would you like to continue with the default port assignment? [y/n] \n",
            "y\n",
            "We will attach a remote.it Service to the following Application:\n",
            "\n",
            "Protocol: web \n",
            "Port #: 80\n",
            ".\n",
            "....\n",
            "==========================================\n",
            "Allocated UID: 80:00:00:00:01:0B:66:EE. \n",
            "\n",
            "..\n",
            "\n",
            "Enter a name for this remote.it service (e.g. web-Pi). \n",
            "This name will be shown in your remote.it Service List.\n",
            "\n",
            "Only letters, numbers, underscore, space and dash are allowed.\n",
            "\n",
            "webapp\n",
            ".\n",
            "Registering webapp\n",
            ".......\n",
            "\n",
            "/usr/bin/Connectdweb80: 67: /usr/bin/connectd_options: ip: not found\n",
            "System has not been booted with systemd as init system (PID 1). Can't operate.\n",
            "\n",
            "\n",
            "=========================  Installed remote.it Services  ======================\n",
            " Service Name       | Protocol   | LAN Address        | Port | Application     \n",
            "-------------------------------------------------------------------------------\n",
            " webapp             | HTTP       | localhost          | 80   | not detected     \n",
            "-------------------------------------------------------------------------------\n",
            " Device Name: notebook  Platform: x86_64-ubuntu16.04\n",
            " Hardware ID: -Pr6bemfHpTfVGyWjWcRg\n",
            "============================================================\n",
            "      'not detected' indicates that there is no TCP \n",
            "      listener detected at that address and port. \n",
            "      Please check your application's settings.\n",
            "============================================================\n",
            "\n",
            "============================ Main Menu ============================\n",
            "                                                                   \n",
            "    1) Attach/reinstall a remote.it Service to an application      \n",
            "    2) Attach/reinstall a remote.it Service to a LAN application   \n",
            "    3) Remove a remote.it Service from an application              \n",
            "    4) Remove all remote.it Services, then exit                    \n",
            "    5) Exit                                                        \n",
            "                                                                   \n",
            "===================================================================\n",
            "    'application' is any TCP service (e.g. SSH, VNC, HTTP, etc.)   \n",
            "    running on this device.  'LAN application' is a TCP service    \n",
            "    running on another device on this LAN.                         \n",
            "===================================================================\n",
            "Choose a menu selection (1 - 5):\n",
            "5\n",
            "\n",
            "\n",
            "Are you sure you want to exit? [y/n] \n",
            "y\n"
          ],
          "name": "stdout"
        }
      ]
    },
    {
      "cell_type": "code",
      "metadata": {
        "id": "7BY4E-iGZnuQ",
        "colab": {
          "base_uri": "https://localhost:8080/"
        },
        "outputId": "b0b1f43e-10d3-4c08-96dc-e3df3d936e2b"
      },
      "source": [
        "!pip install easyocr"
      ],
      "execution_count": null,
      "outputs": [
        {
          "output_type": "stream",
          "text": [
            "Collecting easyocr\n",
            "\u001b[?25l  Downloading https://files.pythonhosted.org/packages/48/b0/00d399572e9942795fb456759ac35e4b4dcbfae429adab1670a44d1ab8ab/easyocr-1.3.0.1-py3-none-any.whl (63.0MB)\n",
            "\u001b[K     |████████████████████████████████| 63.0MB 44kB/s \n",
            "\u001b[?25hRequirement already satisfied: Pillow in /usr/local/lib/python3.7/dist-packages (from easyocr) (7.1.2)\n",
            "Requirement already satisfied: scikit-image in /usr/local/lib/python3.7/dist-packages (from easyocr) (0.16.2)\n",
            "Requirement already satisfied: PyYAML in /usr/local/lib/python3.7/dist-packages (from easyocr) (3.13)\n",
            "Requirement already satisfied: numpy in /usr/local/lib/python3.7/dist-packages (from easyocr) (1.19.5)\n",
            "Requirement already satisfied: opencv-python in /usr/local/lib/python3.7/dist-packages (from easyocr) (4.1.2.30)\n",
            "Requirement already satisfied: torchvision>=0.5 in /usr/local/lib/python3.7/dist-packages (from easyocr) (0.9.1+cu101)\n",
            "Collecting python-bidi\n",
            "  Downloading https://files.pythonhosted.org/packages/33/b0/f942d146a2f457233baaafd6bdf624eba8e0f665045b4abd69d1b62d097d/python_bidi-0.4.2-py2.py3-none-any.whl\n",
            "Requirement already satisfied: scipy in /usr/local/lib/python3.7/dist-packages (from easyocr) (1.4.1)\n",
            "Requirement already satisfied: torch in /usr/local/lib/python3.7/dist-packages (from easyocr) (1.8.1+cu101)\n",
            "Requirement already satisfied: imageio>=2.3.0 in /usr/local/lib/python3.7/dist-packages (from scikit-image->easyocr) (2.4.1)\n",
            "Requirement already satisfied: networkx>=2.0 in /usr/local/lib/python3.7/dist-packages (from scikit-image->easyocr) (2.5)\n",
            "Requirement already satisfied: PyWavelets>=0.4.0 in /usr/local/lib/python3.7/dist-packages (from scikit-image->easyocr) (1.1.1)\n",
            "Requirement already satisfied: matplotlib!=3.0.0,>=2.0.0 in /usr/local/lib/python3.7/dist-packages (from scikit-image->easyocr) (3.2.2)\n",
            "Requirement already satisfied: six in /usr/local/lib/python3.7/dist-packages (from python-bidi->easyocr) (1.15.0)\n",
            "Requirement already satisfied: typing-extensions in /usr/local/lib/python3.7/dist-packages (from torch->easyocr) (3.7.4.3)\n",
            "Requirement already satisfied: decorator>=4.3.0 in /usr/local/lib/python3.7/dist-packages (from networkx>=2.0->scikit-image->easyocr) (4.4.2)\n",
            "Requirement already satisfied: python-dateutil>=2.1 in /usr/local/lib/python3.7/dist-packages (from matplotlib!=3.0.0,>=2.0.0->scikit-image->easyocr) (2.8.1)\n",
            "Requirement already satisfied: cycler>=0.10 in /usr/local/lib/python3.7/dist-packages (from matplotlib!=3.0.0,>=2.0.0->scikit-image->easyocr) (0.10.0)\n",
            "Requirement already satisfied: pyparsing!=2.0.4,!=2.1.2,!=2.1.6,>=2.0.1 in /usr/local/lib/python3.7/dist-packages (from matplotlib!=3.0.0,>=2.0.0->scikit-image->easyocr) (2.4.7)\n",
            "Requirement already satisfied: kiwisolver>=1.0.1 in /usr/local/lib/python3.7/dist-packages (from matplotlib!=3.0.0,>=2.0.0->scikit-image->easyocr) (1.3.1)\n",
            "Installing collected packages: python-bidi, easyocr\n",
            "Successfully installed easyocr-1.3.0.1 python-bidi-0.4.2\n"
          ],
          "name": "stdout"
        }
      ]
    },
    {
      "cell_type": "code",
      "metadata": {
        "id": "V5WYT_84pZC5",
        "colab": {
          "base_uri": "https://localhost:8080/",
          "height": 1000
        },
        "outputId": "17f89edf-f5b5-4a56-f33d-84bd7415aadf"
      },
      "source": [
        "!pip install streamlit"
      ],
      "execution_count": null,
      "outputs": [
        {
          "output_type": "stream",
          "text": [
            "Collecting streamlit\n",
            "\u001b[?25l  Downloading https://files.pythonhosted.org/packages/d9/99/a8913c21bd07a14f72658a01784414ffecb380ddd0f9a127257314fea697/streamlit-0.80.0-py2.py3-none-any.whl (8.2MB)\n",
            "\u001b[K     |████████████████████████████████| 8.2MB 6.7MB/s \n",
            "\u001b[?25hCollecting validators\n",
            "  Downloading https://files.pythonhosted.org/packages/db/2f/7fed3ee94ad665ad2c1de87f858f10a7785251ff75b4fd47987888d07ef1/validators-0.18.2-py3-none-any.whl\n",
            "Requirement already satisfied: click>=7.0 in /usr/local/lib/python3.7/dist-packages (from streamlit) (7.1.2)\n",
            "Requirement already satisfied: packaging in /usr/local/lib/python3.7/dist-packages (from streamlit) (20.9)\n",
            "Requirement already satisfied: altair>=3.2.0 in /usr/local/lib/python3.7/dist-packages (from streamlit) (4.1.0)\n",
            "Requirement already satisfied: astor in /usr/local/lib/python3.7/dist-packages (from streamlit) (0.8.1)\n",
            "Requirement already satisfied: protobuf!=3.11,>=3.6.0 in /usr/local/lib/python3.7/dist-packages (from streamlit) (3.12.4)\n",
            "Requirement already satisfied: pandas>=0.21.0 in /usr/local/lib/python3.7/dist-packages (from streamlit) (1.1.5)\n",
            "Requirement already satisfied: toml in /usr/local/lib/python3.7/dist-packages (from streamlit) (0.10.2)\n",
            "Collecting watchdog; platform_system != \"Darwin\"\n",
            "\u001b[?25l  Downloading https://files.pythonhosted.org/packages/c6/ba/a36ca5b4e75649a002f06531862467b3eb5c768caa23d6d88b921fe238d8/watchdog-2.0.2-py3-none-manylinux2014_x86_64.whl (74kB)\n",
            "\u001b[K     |████████████████████████████████| 81kB 11.8MB/s \n",
            "\u001b[?25hRequirement already satisfied: numpy in /usr/local/lib/python3.7/dist-packages (from streamlit) (1.19.5)\n",
            "Requirement already satisfied: python-dateutil in /usr/local/lib/python3.7/dist-packages (from streamlit) (2.8.1)\n",
            "Collecting pydeck>=0.1.dev5\n",
            "\u001b[?25l  Downloading https://files.pythonhosted.org/packages/d6/bc/f0e44828e4290367c869591d50d3671a4d0ee94926da6cb734b7b200308c/pydeck-0.6.2-py2.py3-none-any.whl (4.2MB)\n",
            "\u001b[K     |████████████████████████████████| 4.2MB 57.0MB/s \n",
            "\u001b[?25hRequirement already satisfied: cachetools>=4.0 in /usr/local/lib/python3.7/dist-packages (from streamlit) (4.2.1)\n",
            "Requirement already satisfied: tornado>=5.0 in /usr/local/lib/python3.7/dist-packages (from streamlit) (5.1.1)\n",
            "Requirement already satisfied: pyarrow; python_version < \"3.9\" in /usr/local/lib/python3.7/dist-packages (from streamlit) (3.0.0)\n",
            "Requirement already satisfied: requests in /usr/local/lib/python3.7/dist-packages (from streamlit) (2.23.0)\n",
            "Collecting blinker\n",
            "\u001b[?25l  Downloading https://files.pythonhosted.org/packages/1b/51/e2a9f3b757eb802f61dc1f2b09c8c99f6eb01cf06416c0671253536517b6/blinker-1.4.tar.gz (111kB)\n",
            "\u001b[K     |████████████████████████████████| 112kB 60.0MB/s \n",
            "\u001b[?25hCollecting base58\n",
            "  Downloading https://files.pythonhosted.org/packages/b8/a1/d9f565e9910c09fd325dc638765e8843a19fa696275c16cc08cf3b0a3c25/base58-2.1.0-py3-none-any.whl\n",
            "Collecting gitpython\n",
            "\u001b[?25l  Downloading https://files.pythonhosted.org/packages/a6/99/98019716955ba243657daedd1de8f3a88ca1f5b75057c38e959db22fb87b/GitPython-3.1.14-py3-none-any.whl (159kB)\n",
            "\u001b[K     |████████████████████████████████| 163kB 55.7MB/s \n",
            "\u001b[?25hRequirement already satisfied: pillow>=6.2.0 in /usr/local/lib/python3.7/dist-packages (from streamlit) (7.1.2)\n",
            "Requirement already satisfied: tzlocal in /usr/local/lib/python3.7/dist-packages (from streamlit) (1.5.1)\n",
            "Requirement already satisfied: six>=1.4.0 in /usr/local/lib/python3.7/dist-packages (from validators->streamlit) (1.15.0)\n",
            "Requirement already satisfied: decorator>=3.4.0 in /usr/local/lib/python3.7/dist-packages (from validators->streamlit) (4.4.2)\n",
            "Requirement already satisfied: pyparsing>=2.0.2 in /usr/local/lib/python3.7/dist-packages (from packaging->streamlit) (2.4.7)\n",
            "Requirement already satisfied: entrypoints in /usr/local/lib/python3.7/dist-packages (from altair>=3.2.0->streamlit) (0.3)\n",
            "Requirement already satisfied: toolz in /usr/local/lib/python3.7/dist-packages (from altair>=3.2.0->streamlit) (0.11.1)\n",
            "Requirement already satisfied: jinja2 in /usr/local/lib/python3.7/dist-packages (from altair>=3.2.0->streamlit) (2.11.3)\n",
            "Requirement already satisfied: jsonschema in /usr/local/lib/python3.7/dist-packages (from altair>=3.2.0->streamlit) (2.6.0)\n",
            "Requirement already satisfied: setuptools in /usr/local/lib/python3.7/dist-packages (from protobuf!=3.11,>=3.6.0->streamlit) (54.2.0)\n",
            "Requirement already satisfied: pytz>=2017.2 in /usr/local/lib/python3.7/dist-packages (from pandas>=0.21.0->streamlit) (2018.9)\n",
            "Requirement already satisfied: ipywidgets>=7.0.0 in /usr/local/lib/python3.7/dist-packages (from pydeck>=0.1.dev5->streamlit) (7.6.3)\n",
            "Requirement already satisfied: traitlets>=4.3.2 in /usr/local/lib/python3.7/dist-packages (from pydeck>=0.1.dev5->streamlit) (5.0.5)\n",
            "Collecting ipykernel>=5.1.2; python_version >= \"3.4\"\n",
            "\u001b[?25l  Downloading https://files.pythonhosted.org/packages/3a/7d/9f8ac1b1b76f2f1538b5650f0b5636bae082724b1e06939a3a9d38e1380e/ipykernel-5.5.3-py3-none-any.whl (120kB)\n",
            "\u001b[K     |████████████████████████████████| 122kB 54.7MB/s \n",
            "\u001b[?25hRequirement already satisfied: certifi>=2017.4.17 in /usr/local/lib/python3.7/dist-packages (from requests->streamlit) (2020.12.5)\n",
            "Requirement already satisfied: urllib3!=1.25.0,!=1.25.1,<1.26,>=1.21.1 in /usr/local/lib/python3.7/dist-packages (from requests->streamlit) (1.24.3)\n",
            "Requirement already satisfied: idna<3,>=2.5 in /usr/local/lib/python3.7/dist-packages (from requests->streamlit) (2.10)\n",
            "Requirement already satisfied: chardet<4,>=3.0.2 in /usr/local/lib/python3.7/dist-packages (from requests->streamlit) (3.0.4)\n",
            "Collecting gitdb<5,>=4.0.1\n",
            "\u001b[?25l  Downloading https://files.pythonhosted.org/packages/ea/e8/f414d1a4f0bbc668ed441f74f44c116d9816833a48bf81d22b697090dba8/gitdb-4.0.7-py3-none-any.whl (63kB)\n",
            "\u001b[K     |████████████████████████████████| 71kB 11.8MB/s \n",
            "\u001b[?25hRequirement already satisfied: MarkupSafe>=0.23 in /usr/local/lib/python3.7/dist-packages (from jinja2->altair>=3.2.0->streamlit) (1.1.1)\n",
            "Requirement already satisfied: ipython>=4.0.0; python_version >= \"3.3\" in /usr/local/lib/python3.7/dist-packages (from ipywidgets>=7.0.0->pydeck>=0.1.dev5->streamlit) (5.5.0)\n",
            "Requirement already satisfied: widgetsnbextension~=3.5.0 in /usr/local/lib/python3.7/dist-packages (from ipywidgets>=7.0.0->pydeck>=0.1.dev5->streamlit) (3.5.1)\n",
            "Requirement already satisfied: nbformat>=4.2.0 in /usr/local/lib/python3.7/dist-packages (from ipywidgets>=7.0.0->pydeck>=0.1.dev5->streamlit) (5.1.2)\n",
            "Requirement already satisfied: jupyterlab-widgets>=1.0.0; python_version >= \"3.6\" in /usr/local/lib/python3.7/dist-packages (from ipywidgets>=7.0.0->pydeck>=0.1.dev5->streamlit) (1.0.0)\n",
            "Requirement already satisfied: ipython-genutils in /usr/local/lib/python3.7/dist-packages (from traitlets>=4.3.2->pydeck>=0.1.dev5->streamlit) (0.2.0)\n",
            "Requirement already satisfied: jupyter-client in /usr/local/lib/python3.7/dist-packages (from ipykernel>=5.1.2; python_version >= \"3.4\"->pydeck>=0.1.dev5->streamlit) (5.3.5)\n",
            "Collecting smmap<5,>=3.0.1\n",
            "  Downloading https://files.pythonhosted.org/packages/68/ee/d540eb5e5996eb81c26ceffac6ee49041d473bc5125f2aa995cf51ec1cf1/smmap-4.0.0-py2.py3-none-any.whl\n",
            "Requirement already satisfied: prompt-toolkit<2.0.0,>=1.0.4 in /usr/local/lib/python3.7/dist-packages (from ipython>=4.0.0; python_version >= \"3.3\"->ipywidgets>=7.0.0->pydeck>=0.1.dev5->streamlit) (1.0.18)\n",
            "Requirement already satisfied: pexpect; sys_platform != \"win32\" in /usr/local/lib/python3.7/dist-packages (from ipython>=4.0.0; python_version >= \"3.3\"->ipywidgets>=7.0.0->pydeck>=0.1.dev5->streamlit) (4.8.0)\n",
            "Requirement already satisfied: pygments in /usr/local/lib/python3.7/dist-packages (from ipython>=4.0.0; python_version >= \"3.3\"->ipywidgets>=7.0.0->pydeck>=0.1.dev5->streamlit) (2.6.1)\n",
            "Requirement already satisfied: simplegeneric>0.8 in /usr/local/lib/python3.7/dist-packages (from ipython>=4.0.0; python_version >= \"3.3\"->ipywidgets>=7.0.0->pydeck>=0.1.dev5->streamlit) (0.8.1)\n",
            "Requirement already satisfied: pickleshare in /usr/local/lib/python3.7/dist-packages (from ipython>=4.0.0; python_version >= \"3.3\"->ipywidgets>=7.0.0->pydeck>=0.1.dev5->streamlit) (0.7.5)\n",
            "Requirement already satisfied: notebook>=4.4.1 in /usr/local/lib/python3.7/dist-packages (from widgetsnbextension~=3.5.0->ipywidgets>=7.0.0->pydeck>=0.1.dev5->streamlit) (5.3.1)\n",
            "Requirement already satisfied: jupyter-core in /usr/local/lib/python3.7/dist-packages (from nbformat>=4.2.0->ipywidgets>=7.0.0->pydeck>=0.1.dev5->streamlit) (4.7.1)\n",
            "Requirement already satisfied: pyzmq>=13 in /usr/local/lib/python3.7/dist-packages (from jupyter-client->ipykernel>=5.1.2; python_version >= \"3.4\"->pydeck>=0.1.dev5->streamlit) (22.0.3)\n",
            "Requirement already satisfied: wcwidth in /usr/local/lib/python3.7/dist-packages (from prompt-toolkit<2.0.0,>=1.0.4->ipython>=4.0.0; python_version >= \"3.3\"->ipywidgets>=7.0.0->pydeck>=0.1.dev5->streamlit) (0.2.5)\n",
            "Requirement already satisfied: ptyprocess>=0.5 in /usr/local/lib/python3.7/dist-packages (from pexpect; sys_platform != \"win32\"->ipython>=4.0.0; python_version >= \"3.3\"->ipywidgets>=7.0.0->pydeck>=0.1.dev5->streamlit) (0.7.0)\n",
            "Requirement already satisfied: Send2Trash in /usr/local/lib/python3.7/dist-packages (from notebook>=4.4.1->widgetsnbextension~=3.5.0->ipywidgets>=7.0.0->pydeck>=0.1.dev5->streamlit) (1.5.0)\n",
            "Requirement already satisfied: nbconvert in /usr/local/lib/python3.7/dist-packages (from notebook>=4.4.1->widgetsnbextension~=3.5.0->ipywidgets>=7.0.0->pydeck>=0.1.dev5->streamlit) (5.6.1)\n",
            "Requirement already satisfied: terminado>=0.8.1 in /usr/local/lib/python3.7/dist-packages (from notebook>=4.4.1->widgetsnbextension~=3.5.0->ipywidgets>=7.0.0->pydeck>=0.1.dev5->streamlit) (0.9.3)\n",
            "Requirement already satisfied: pandocfilters>=1.4.1 in /usr/local/lib/python3.7/dist-packages (from nbconvert->notebook>=4.4.1->widgetsnbextension~=3.5.0->ipywidgets>=7.0.0->pydeck>=0.1.dev5->streamlit) (1.4.3)\n",
            "Requirement already satisfied: testpath in /usr/local/lib/python3.7/dist-packages (from nbconvert->notebook>=4.4.1->widgetsnbextension~=3.5.0->ipywidgets>=7.0.0->pydeck>=0.1.dev5->streamlit) (0.4.4)\n",
            "Requirement already satisfied: mistune<2,>=0.8.1 in /usr/local/lib/python3.7/dist-packages (from nbconvert->notebook>=4.4.1->widgetsnbextension~=3.5.0->ipywidgets>=7.0.0->pydeck>=0.1.dev5->streamlit) (0.8.4)\n",
            "Requirement already satisfied: defusedxml in /usr/local/lib/python3.7/dist-packages (from nbconvert->notebook>=4.4.1->widgetsnbextension~=3.5.0->ipywidgets>=7.0.0->pydeck>=0.1.dev5->streamlit) (0.7.1)\n",
            "Requirement already satisfied: bleach in /usr/local/lib/python3.7/dist-packages (from nbconvert->notebook>=4.4.1->widgetsnbextension~=3.5.0->ipywidgets>=7.0.0->pydeck>=0.1.dev5->streamlit) (3.3.0)\n",
            "Requirement already satisfied: webencodings in /usr/local/lib/python3.7/dist-packages (from bleach->nbconvert->notebook>=4.4.1->widgetsnbextension~=3.5.0->ipywidgets>=7.0.0->pydeck>=0.1.dev5->streamlit) (0.5.1)\n",
            "Building wheels for collected packages: blinker\n",
            "  Building wheel for blinker (setup.py) ... \u001b[?25l\u001b[?25hdone\n",
            "  Created wheel for blinker: filename=blinker-1.4-cp37-none-any.whl size=13448 sha256=3bda16243626b03e3c912081ec128dbeef7f5b760b811bc249c574e2d42b3240\n",
            "  Stored in directory: /root/.cache/pip/wheels/92/a0/00/8690a57883956a301d91cf4ec999cc0b258b01e3f548f86e89\n",
            "Successfully built blinker\n",
            "\u001b[31mERROR: google-colab 1.0.0 has requirement ipykernel~=4.10, but you'll have ipykernel 5.5.3 which is incompatible.\u001b[0m\n",
            "Installing collected packages: validators, watchdog, ipykernel, pydeck, blinker, base58, smmap, gitdb, gitpython, streamlit\n",
            "  Found existing installation: ipykernel 4.10.1\n",
            "    Uninstalling ipykernel-4.10.1:\n",
            "      Successfully uninstalled ipykernel-4.10.1\n",
            "Successfully installed base58-2.1.0 blinker-1.4 gitdb-4.0.7 gitpython-3.1.14 ipykernel-5.5.3 pydeck-0.6.2 smmap-4.0.0 streamlit-0.80.0 validators-0.18.2 watchdog-2.0.2\n"
          ],
          "name": "stdout"
        },
        {
          "output_type": "display_data",
          "data": {
            "application/vnd.colab-display-data+json": {
              "pip_warning": {
                "packages": [
                  "ipykernel"
                ]
              }
            }
          },
          "metadata": {
            "tags": []
          }
        }
      ]
    },
    {
      "cell_type": "code",
      "metadata": {
        "id": "kqAQacXea2RW"
      },
      "source": [
        "# ! ls '/content/drive/My Drive/Colab Notebooks/Case_study2/data/'\n",
        "# model = keras.models.load_model(\"/content/drive/My Drive/Colab Notebooks/Case_study2/data/Finalmodel_2.h5\")"
      ],
      "execution_count": null,
      "outputs": []
    },
    {
      "cell_type": "code",
      "metadata": {
        "colab": {
          "base_uri": "https://localhost:8080/"
        },
        "id": "M6Zpqjp6W9X6",
        "outputId": "20ef392c-ee1e-4343-a85f-0e5af780d5a4"
      },
      "source": [
        "%%writefile app.py\n",
        "\n",
        "import numpy as np\n",
        "import pandas as pd\n",
        "import easyocr\n",
        "import cv2\n",
        "import re\n",
        "import warnings\n",
        "warnings.filterwarnings(\"ignore\")\n",
        "from keras.preprocessing import image\n",
        "from io import BytesIO\n",
        "\n",
        "import os\n",
        "import tensorflow as tf\n",
        "from tensorflow.keras.preprocessing.text import Tokenizer,tokenizer_from_json\n",
        "from tensorflow.keras.preprocessing.sequence import pad_sequences\n",
        "import io\n",
        "import json\n",
        "from tensorflow import keras\n",
        "\n",
        "import streamlit as st\n",
        "from PIL import Image\n",
        "\n",
        "\n",
        "\n",
        "def clean_text(line):\n",
        "    line = re.sub('<[^>]*>',' ',line).strip()\n",
        "    line = line.strip().replace('\\n','')\n",
        "    line = re.sub('[^A-Za-z0-9]+',' ',line).strip()\n",
        "    line = re.sub(\"([\\(\\[]).*?([\\)\\]])\", \"\", line)\n",
        "    line = re.sub('\\W+', \" \", line)\n",
        "    line = re.sub(\"[0-9]\",' ',line)\n",
        "    return line.lower().strip()\n",
        "\n",
        "def text_from_img(img_path):\n",
        "  try:\n",
        "    output = reader.readtext(img_path)\n",
        "    sentence_=[]\n",
        "    for desc in output:\n",
        "      sentence_.append(desc[1])\n",
        "      sent = ' '.join(sentence_)\n",
        "  except:\n",
        "    sent=''\n",
        "  sentence = clean_text(sent)\n",
        "  return sentence\n",
        "\n",
        "def imtoarray(img_path,tsize=(256,256,3)):\n",
        "  image_ = []\n",
        "  try:\n",
        "    im = Image.open(img_path)\n",
        "    im.save(os.path.join('/','content','test_cases',str(img_path.name)))\n",
        "    # rgb_im = im.convert('RGB')\n",
        "    img = image.load_img(os.path.join('/','content','test_cases',img_path.name), target_size=tsize, grayscale=False)\n",
        "    img = image.img_to_array(img)\n",
        "    img = img/255\n",
        "    image_.append(img)\n",
        "  except Exception as e:\n",
        "    st.write(\"error: \",e)\n",
        "    raise Exception\n",
        "  return np.array(image_)\n",
        "\n",
        "def process_text():\n",
        "  sequence = tokenizer.texts_to_sequences([text_from_img(img_path),])\n",
        "  padded = pad_sequences(sequence,maxlen=25,padding='post')\n",
        "  return padded\n",
        "\n",
        "\n",
        "st.set_option('deprecation.showfileUploaderEncoding', False)\n",
        "st.title(\"Meme Classifier\")\n",
        "st.text(\"will it be popular or not\")\n",
        "st.text(\"\")\n",
        "st.text(\"\")\n",
        "with st.spinner('loading model into memory....'):\n",
        "  @st.cache(allow_output_mutation=True)\n",
        "  def load_models(model_name = '/content/drive/My Drive/Colab Notebooks/Case_study2/data/tflitemodel_2.tflite'):\n",
        "      with open('/content/drive/My Drive/Colab Notebooks/Case_study2/data/tokenizer.json') as f:\n",
        "          data = json.load(f)\n",
        "      tokenizer = tokenizer_from_json(data)\n",
        "      interpreter = tf.lite.Interpreter(model_path=model_name)\n",
        "      model = keras.models.load_model(\"/content/drive/My Drive/Colab Notebooks/Case_study2/data/Finalmodel_2.h5\")\n",
        "      return tokenizer, interpreter, model\n",
        "\n",
        "  with st.spinner('loading model into memory....'):\n",
        "      tokenizer, interpreter, model = load_models()\n",
        "\n",
        "\n",
        "img_path = st.file_uploader(\"Upload an image\", type=[\"jpg\",\"png\",\"jpeg\"])\n",
        "\n",
        "if img_path is not None:\n",
        "  # img_path = img_path.name\n",
        "  with st.spinner(\"Preprocessing....\"):\n",
        "      text = process_text()    \n",
        "      # text_data = text.astype('float32')\n",
        "      img_data = imtoarray(img_path)\n",
        "\n",
        "  st.write(\"predicting class: \")\n",
        "\n",
        "  with st.spinner(\"Classifying....\"):\n",
        "      # input_details = interpreter.get_input_details()\n",
        "      # output_details = interpreter.get_output_details()\n",
        "      # interpreter.allocate_tensors()\n",
        "      # interpreter.set_tensor(input_details[0]['index'],tf.reshape(img_data,[1,256,256,3]))\n",
        "      # interpreter.set_tensor(input_details[1]['index'],tf.reshape(text_data,[1,25]))\n",
        "      # interpreter.invoke()\n",
        "      # output_data = interpreter.get_tensor(output_details[0]['index'])\n",
        "      # st.write(\"#########output: \", output_details)\n",
        "      test_ = text,img_data\n",
        "      pred = model.predict(test_)\n",
        "      pred = (pred[0][1]).astype('float32')\n",
        "      if pred > 0.5:\n",
        "        pred_val = \"{:.2f}\".format(pred*100)\n",
        "        st.write(f\"Given Meme might go Popular with a confidence score of {pred_val}%\")\n",
        "      else:\n",
        "        pred_val = \"{:.2f}\".format(pred*100)\n",
        "        st.write(f\"Might not go Popular as confidence score {pred_val}% is less than 50%\")\n",
        "      st.write(\"\")\n",
        "      byteImgIO = io.BytesIO()\n",
        "      byteImg = Image.open(img_path)\n",
        "      # im = Image.open(BytesIO(img_data))\n",
        "      st.image(byteImg, caption='Classifing meme',use_column_width=True)"
      ],
      "execution_count": null,
      "outputs": [
        {
          "output_type": "stream",
          "text": [
            "Overwriting app.py\n"
          ],
          "name": "stdout"
        }
      ]
    },
    {
      "cell_type": "code",
      "metadata": {
        "id": "X53dac6kW_1R"
      },
      "source": [
        "!streamlit run --server.port 80 app.py --&>/dev/null&"
      ],
      "execution_count": null,
      "outputs": []
    },
    {
      "cell_type": "code",
      "metadata": {
        "id": "juGJyHaLqfuW"
      },
      "source": [
        ""
      ],
      "execution_count": null,
      "outputs": []
    }
  ]
}