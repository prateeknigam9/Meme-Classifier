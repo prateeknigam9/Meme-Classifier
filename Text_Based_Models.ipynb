{
  "nbformat": 4,
  "nbformat_minor": 0,
  "metadata": {
    "colab": {
      "name": "Text_based_models.ipynb",
      "provenance": [],
      "collapsed_sections": [],
      "toc_visible": true,
      "machine_shape": "hm",
      "include_colab_link": true
    },
    "kernelspec": {
      "name": "python3",
      "display_name": "Python 3"
    },
    "accelerator": "GPU",
    "widgets": {
      "application/vnd.jupyter.widget-state+json": {
        "08a1a405b32d444b8e6bfb7414601e03": {
          "model_module": "@jupyter-widgets/controls",
          "model_name": "HBoxModel",
          "state": {
            "_view_name": "HBoxView",
            "_dom_classes": [],
            "_model_name": "HBoxModel",
            "_view_module": "@jupyter-widgets/controls",
            "_model_module_version": "1.5.0",
            "_view_count": null,
            "_view_module_version": "1.5.0",
            "box_style": "",
            "layout": "IPY_MODEL_42ef76732ae84f5e8412326c2bbe1362",
            "_model_module": "@jupyter-widgets/controls",
            "children": [
              "IPY_MODEL_68f88697cdd0415a9605263ae68a16cb",
              "IPY_MODEL_d8e496a577a64fd5a9eb3559d051df01"
            ]
          }
        },
        "42ef76732ae84f5e8412326c2bbe1362": {
          "model_module": "@jupyter-widgets/base",
          "model_name": "LayoutModel",
          "state": {
            "_view_name": "LayoutView",
            "grid_template_rows": null,
            "right": null,
            "justify_content": null,
            "_view_module": "@jupyter-widgets/base",
            "overflow": null,
            "_model_module_version": "1.2.0",
            "_view_count": null,
            "flex_flow": null,
            "width": null,
            "min_width": null,
            "border": null,
            "align_items": null,
            "bottom": null,
            "_model_module": "@jupyter-widgets/base",
            "top": null,
            "grid_column": null,
            "overflow_y": null,
            "overflow_x": null,
            "grid_auto_flow": null,
            "grid_area": null,
            "grid_template_columns": null,
            "flex": null,
            "_model_name": "LayoutModel",
            "justify_items": null,
            "grid_row": null,
            "max_height": null,
            "align_content": null,
            "visibility": null,
            "align_self": null,
            "height": null,
            "min_height": null,
            "padding": null,
            "grid_auto_rows": null,
            "grid_gap": null,
            "max_width": null,
            "order": null,
            "_view_module_version": "1.2.0",
            "grid_template_areas": null,
            "object_position": null,
            "object_fit": null,
            "grid_auto_columns": null,
            "margin": null,
            "display": null,
            "left": null
          }
        },
        "68f88697cdd0415a9605263ae68a16cb": {
          "model_module": "@jupyter-widgets/controls",
          "model_name": "FloatProgressModel",
          "state": {
            "_view_name": "ProgressView",
            "style": "IPY_MODEL_e3db465e85d840f6bc69cc29e93645e1",
            "_dom_classes": [],
            "description": "Downloading: 100%",
            "_model_name": "FloatProgressModel",
            "bar_style": "success",
            "max": 442,
            "_view_module": "@jupyter-widgets/controls",
            "_model_module_version": "1.5.0",
            "value": 442,
            "_view_count": null,
            "_view_module_version": "1.5.0",
            "orientation": "horizontal",
            "min": 0,
            "description_tooltip": null,
            "_model_module": "@jupyter-widgets/controls",
            "layout": "IPY_MODEL_9bc03657e516420f8d477ce8a89036a9"
          }
        },
        "d8e496a577a64fd5a9eb3559d051df01": {
          "model_module": "@jupyter-widgets/controls",
          "model_name": "HTMLModel",
          "state": {
            "_view_name": "HTMLView",
            "style": "IPY_MODEL_31ee74ef6d834363af250db46ab0d042",
            "_dom_classes": [],
            "description": "",
            "_model_name": "HTMLModel",
            "placeholder": "​",
            "_view_module": "@jupyter-widgets/controls",
            "_model_module_version": "1.5.0",
            "value": " 442/442 [00:04&lt;00:00, 109B/s]",
            "_view_count": null,
            "_view_module_version": "1.5.0",
            "description_tooltip": null,
            "_model_module": "@jupyter-widgets/controls",
            "layout": "IPY_MODEL_40427c748d314121853eb195867efcc3"
          }
        },
        "e3db465e85d840f6bc69cc29e93645e1": {
          "model_module": "@jupyter-widgets/controls",
          "model_name": "ProgressStyleModel",
          "state": {
            "_view_name": "StyleView",
            "_model_name": "ProgressStyleModel",
            "description_width": "initial",
            "_view_module": "@jupyter-widgets/base",
            "_model_module_version": "1.5.0",
            "_view_count": null,
            "_view_module_version": "1.2.0",
            "bar_color": null,
            "_model_module": "@jupyter-widgets/controls"
          }
        },
        "9bc03657e516420f8d477ce8a89036a9": {
          "model_module": "@jupyter-widgets/base",
          "model_name": "LayoutModel",
          "state": {
            "_view_name": "LayoutView",
            "grid_template_rows": null,
            "right": null,
            "justify_content": null,
            "_view_module": "@jupyter-widgets/base",
            "overflow": null,
            "_model_module_version": "1.2.0",
            "_view_count": null,
            "flex_flow": null,
            "width": null,
            "min_width": null,
            "border": null,
            "align_items": null,
            "bottom": null,
            "_model_module": "@jupyter-widgets/base",
            "top": null,
            "grid_column": null,
            "overflow_y": null,
            "overflow_x": null,
            "grid_auto_flow": null,
            "grid_area": null,
            "grid_template_columns": null,
            "flex": null,
            "_model_name": "LayoutModel",
            "justify_items": null,
            "grid_row": null,
            "max_height": null,
            "align_content": null,
            "visibility": null,
            "align_self": null,
            "height": null,
            "min_height": null,
            "padding": null,
            "grid_auto_rows": null,
            "grid_gap": null,
            "max_width": null,
            "order": null,
            "_view_module_version": "1.2.0",
            "grid_template_areas": null,
            "object_position": null,
            "object_fit": null,
            "grid_auto_columns": null,
            "margin": null,
            "display": null,
            "left": null
          }
        },
        "31ee74ef6d834363af250db46ab0d042": {
          "model_module": "@jupyter-widgets/controls",
          "model_name": "DescriptionStyleModel",
          "state": {
            "_view_name": "StyleView",
            "_model_name": "DescriptionStyleModel",
            "description_width": "",
            "_view_module": "@jupyter-widgets/base",
            "_model_module_version": "1.5.0",
            "_view_count": null,
            "_view_module_version": "1.2.0",
            "_model_module": "@jupyter-widgets/controls"
          }
        },
        "40427c748d314121853eb195867efcc3": {
          "model_module": "@jupyter-widgets/base",
          "model_name": "LayoutModel",
          "state": {
            "_view_name": "LayoutView",
            "grid_template_rows": null,
            "right": null,
            "justify_content": null,
            "_view_module": "@jupyter-widgets/base",
            "overflow": null,
            "_model_module_version": "1.2.0",
            "_view_count": null,
            "flex_flow": null,
            "width": null,
            "min_width": null,
            "border": null,
            "align_items": null,
            "bottom": null,
            "_model_module": "@jupyter-widgets/base",
            "top": null,
            "grid_column": null,
            "overflow_y": null,
            "overflow_x": null,
            "grid_auto_flow": null,
            "grid_area": null,
            "grid_template_columns": null,
            "flex": null,
            "_model_name": "LayoutModel",
            "justify_items": null,
            "grid_row": null,
            "max_height": null,
            "align_content": null,
            "visibility": null,
            "align_self": null,
            "height": null,
            "min_height": null,
            "padding": null,
            "grid_auto_rows": null,
            "grid_gap": null,
            "max_width": null,
            "order": null,
            "_view_module_version": "1.2.0",
            "grid_template_areas": null,
            "object_position": null,
            "object_fit": null,
            "grid_auto_columns": null,
            "margin": null,
            "display": null,
            "left": null
          }
        },
        "ee9adbac68904913adfe3ee290d2c16b": {
          "model_module": "@jupyter-widgets/controls",
          "model_name": "HBoxModel",
          "state": {
            "_view_name": "HBoxView",
            "_dom_classes": [],
            "_model_name": "HBoxModel",
            "_view_module": "@jupyter-widgets/controls",
            "_model_module_version": "1.5.0",
            "_view_count": null,
            "_view_module_version": "1.5.0",
            "box_style": "",
            "layout": "IPY_MODEL_28d5486137f14a388d38624482f75e10",
            "_model_module": "@jupyter-widgets/controls",
            "children": [
              "IPY_MODEL_ed50a5b84682420ba60a640d19d9b56a",
              "IPY_MODEL_69845ad9842b4c5d996ff6216045fd26"
            ]
          }
        },
        "28d5486137f14a388d38624482f75e10": {
          "model_module": "@jupyter-widgets/base",
          "model_name": "LayoutModel",
          "state": {
            "_view_name": "LayoutView",
            "grid_template_rows": null,
            "right": null,
            "justify_content": null,
            "_view_module": "@jupyter-widgets/base",
            "overflow": null,
            "_model_module_version": "1.2.0",
            "_view_count": null,
            "flex_flow": null,
            "width": null,
            "min_width": null,
            "border": null,
            "align_items": null,
            "bottom": null,
            "_model_module": "@jupyter-widgets/base",
            "top": null,
            "grid_column": null,
            "overflow_y": null,
            "overflow_x": null,
            "grid_auto_flow": null,
            "grid_area": null,
            "grid_template_columns": null,
            "flex": null,
            "_model_name": "LayoutModel",
            "justify_items": null,
            "grid_row": null,
            "max_height": null,
            "align_content": null,
            "visibility": null,
            "align_self": null,
            "height": null,
            "min_height": null,
            "padding": null,
            "grid_auto_rows": null,
            "grid_gap": null,
            "max_width": null,
            "order": null,
            "_view_module_version": "1.2.0",
            "grid_template_areas": null,
            "object_position": null,
            "object_fit": null,
            "grid_auto_columns": null,
            "margin": null,
            "display": null,
            "left": null
          }
        },
        "ed50a5b84682420ba60a640d19d9b56a": {
          "model_module": "@jupyter-widgets/controls",
          "model_name": "FloatProgressModel",
          "state": {
            "_view_name": "ProgressView",
            "style": "IPY_MODEL_4c9e0bd3d93b4c59b5af77b1d7b70eb6",
            "_dom_classes": [],
            "description": "Downloading: 100%",
            "_model_name": "FloatProgressModel",
            "bar_style": "success",
            "max": 231508,
            "_view_module": "@jupyter-widgets/controls",
            "_model_module_version": "1.5.0",
            "value": 231508,
            "_view_count": null,
            "_view_module_version": "1.5.0",
            "orientation": "horizontal",
            "min": 0,
            "description_tooltip": null,
            "_model_module": "@jupyter-widgets/controls",
            "layout": "IPY_MODEL_7852ba2acdd54c91a3b1b0911129eefe"
          }
        },
        "69845ad9842b4c5d996ff6216045fd26": {
          "model_module": "@jupyter-widgets/controls",
          "model_name": "HTMLModel",
          "state": {
            "_view_name": "HTMLView",
            "style": "IPY_MODEL_a2a8dcbaff984e568d50c118cd7ede21",
            "_dom_classes": [],
            "description": "",
            "_model_name": "HTMLModel",
            "placeholder": "​",
            "_view_module": "@jupyter-widgets/controls",
            "_model_module_version": "1.5.0",
            "value": " 232k/232k [00:00&lt;00:00, 821kB/s]",
            "_view_count": null,
            "_view_module_version": "1.5.0",
            "description_tooltip": null,
            "_model_module": "@jupyter-widgets/controls",
            "layout": "IPY_MODEL_2e2d84cc02f34398b6ec7f37c354fcc3"
          }
        },
        "4c9e0bd3d93b4c59b5af77b1d7b70eb6": {
          "model_module": "@jupyter-widgets/controls",
          "model_name": "ProgressStyleModel",
          "state": {
            "_view_name": "StyleView",
            "_model_name": "ProgressStyleModel",
            "description_width": "initial",
            "_view_module": "@jupyter-widgets/base",
            "_model_module_version": "1.5.0",
            "_view_count": null,
            "_view_module_version": "1.2.0",
            "bar_color": null,
            "_model_module": "@jupyter-widgets/controls"
          }
        },
        "7852ba2acdd54c91a3b1b0911129eefe": {
          "model_module": "@jupyter-widgets/base",
          "model_name": "LayoutModel",
          "state": {
            "_view_name": "LayoutView",
            "grid_template_rows": null,
            "right": null,
            "justify_content": null,
            "_view_module": "@jupyter-widgets/base",
            "overflow": null,
            "_model_module_version": "1.2.0",
            "_view_count": null,
            "flex_flow": null,
            "width": null,
            "min_width": null,
            "border": null,
            "align_items": null,
            "bottom": null,
            "_model_module": "@jupyter-widgets/base",
            "top": null,
            "grid_column": null,
            "overflow_y": null,
            "overflow_x": null,
            "grid_auto_flow": null,
            "grid_area": null,
            "grid_template_columns": null,
            "flex": null,
            "_model_name": "LayoutModel",
            "justify_items": null,
            "grid_row": null,
            "max_height": null,
            "align_content": null,
            "visibility": null,
            "align_self": null,
            "height": null,
            "min_height": null,
            "padding": null,
            "grid_auto_rows": null,
            "grid_gap": null,
            "max_width": null,
            "order": null,
            "_view_module_version": "1.2.0",
            "grid_template_areas": null,
            "object_position": null,
            "object_fit": null,
            "grid_auto_columns": null,
            "margin": null,
            "display": null,
            "left": null
          }
        },
        "a2a8dcbaff984e568d50c118cd7ede21": {
          "model_module": "@jupyter-widgets/controls",
          "model_name": "DescriptionStyleModel",
          "state": {
            "_view_name": "StyleView",
            "_model_name": "DescriptionStyleModel",
            "description_width": "",
            "_view_module": "@jupyter-widgets/base",
            "_model_module_version": "1.5.0",
            "_view_count": null,
            "_view_module_version": "1.2.0",
            "_model_module": "@jupyter-widgets/controls"
          }
        },
        "2e2d84cc02f34398b6ec7f37c354fcc3": {
          "model_module": "@jupyter-widgets/base",
          "model_name": "LayoutModel",
          "state": {
            "_view_name": "LayoutView",
            "grid_template_rows": null,
            "right": null,
            "justify_content": null,
            "_view_module": "@jupyter-widgets/base",
            "overflow": null,
            "_model_module_version": "1.2.0",
            "_view_count": null,
            "flex_flow": null,
            "width": null,
            "min_width": null,
            "border": null,
            "align_items": null,
            "bottom": null,
            "_model_module": "@jupyter-widgets/base",
            "top": null,
            "grid_column": null,
            "overflow_y": null,
            "overflow_x": null,
            "grid_auto_flow": null,
            "grid_area": null,
            "grid_template_columns": null,
            "flex": null,
            "_model_name": "LayoutModel",
            "justify_items": null,
            "grid_row": null,
            "max_height": null,
            "align_content": null,
            "visibility": null,
            "align_self": null,
            "height": null,
            "min_height": null,
            "padding": null,
            "grid_auto_rows": null,
            "grid_gap": null,
            "max_width": null,
            "order": null,
            "_view_module_version": "1.2.0",
            "grid_template_areas": null,
            "object_position": null,
            "object_fit": null,
            "grid_auto_columns": null,
            "margin": null,
            "display": null,
            "left": null
          }
        },
        "8f6196292bff4acb93c6481af3697e2c": {
          "model_module": "@jupyter-widgets/controls",
          "model_name": "HBoxModel",
          "state": {
            "_view_name": "HBoxView",
            "_dom_classes": [],
            "_model_name": "HBoxModel",
            "_view_module": "@jupyter-widgets/controls",
            "_model_module_version": "1.5.0",
            "_view_count": null,
            "_view_module_version": "1.5.0",
            "box_style": "",
            "layout": "IPY_MODEL_d6511532b2754d12af2d4d3c1e239896",
            "_model_module": "@jupyter-widgets/controls",
            "children": [
              "IPY_MODEL_92689efe6caa4ca494bf52b42628135e",
              "IPY_MODEL_4ed5af87b3f94770802a172704db20c8"
            ]
          }
        },
        "d6511532b2754d12af2d4d3c1e239896": {
          "model_module": "@jupyter-widgets/base",
          "model_name": "LayoutModel",
          "state": {
            "_view_name": "LayoutView",
            "grid_template_rows": null,
            "right": null,
            "justify_content": null,
            "_view_module": "@jupyter-widgets/base",
            "overflow": null,
            "_model_module_version": "1.2.0",
            "_view_count": null,
            "flex_flow": null,
            "width": null,
            "min_width": null,
            "border": null,
            "align_items": null,
            "bottom": null,
            "_model_module": "@jupyter-widgets/base",
            "top": null,
            "grid_column": null,
            "overflow_y": null,
            "overflow_x": null,
            "grid_auto_flow": null,
            "grid_area": null,
            "grid_template_columns": null,
            "flex": null,
            "_model_name": "LayoutModel",
            "justify_items": null,
            "grid_row": null,
            "max_height": null,
            "align_content": null,
            "visibility": null,
            "align_self": null,
            "height": null,
            "min_height": null,
            "padding": null,
            "grid_auto_rows": null,
            "grid_gap": null,
            "max_width": null,
            "order": null,
            "_view_module_version": "1.2.0",
            "grid_template_areas": null,
            "object_position": null,
            "object_fit": null,
            "grid_auto_columns": null,
            "margin": null,
            "display": null,
            "left": null
          }
        },
        "92689efe6caa4ca494bf52b42628135e": {
          "model_module": "@jupyter-widgets/controls",
          "model_name": "FloatProgressModel",
          "state": {
            "_view_name": "ProgressView",
            "style": "IPY_MODEL_dab5ea65147f44858acca380bce3f7f2",
            "_dom_classes": [],
            "description": "Downloading: 100%",
            "_model_name": "FloatProgressModel",
            "bar_style": "success",
            "max": 466062,
            "_view_module": "@jupyter-widgets/controls",
            "_model_module_version": "1.5.0",
            "value": 466062,
            "_view_count": null,
            "_view_module_version": "1.5.0",
            "orientation": "horizontal",
            "min": 0,
            "description_tooltip": null,
            "_model_module": "@jupyter-widgets/controls",
            "layout": "IPY_MODEL_f7d8969d9d2e43b58cacfa3d853e500c"
          }
        },
        "4ed5af87b3f94770802a172704db20c8": {
          "model_module": "@jupyter-widgets/controls",
          "model_name": "HTMLModel",
          "state": {
            "_view_name": "HTMLView",
            "style": "IPY_MODEL_b28c746137624e07946c26240fe44a3e",
            "_dom_classes": [],
            "description": "",
            "_model_name": "HTMLModel",
            "placeholder": "​",
            "_view_module": "@jupyter-widgets/controls",
            "_model_module_version": "1.5.0",
            "value": " 466k/466k [00:00&lt;00:00, 3.94MB/s]",
            "_view_count": null,
            "_view_module_version": "1.5.0",
            "description_tooltip": null,
            "_model_module": "@jupyter-widgets/controls",
            "layout": "IPY_MODEL_8e17f2e5697c4b0c96f8e2be19226fc9"
          }
        },
        "dab5ea65147f44858acca380bce3f7f2": {
          "model_module": "@jupyter-widgets/controls",
          "model_name": "ProgressStyleModel",
          "state": {
            "_view_name": "StyleView",
            "_model_name": "ProgressStyleModel",
            "description_width": "initial",
            "_view_module": "@jupyter-widgets/base",
            "_model_module_version": "1.5.0",
            "_view_count": null,
            "_view_module_version": "1.2.0",
            "bar_color": null,
            "_model_module": "@jupyter-widgets/controls"
          }
        },
        "f7d8969d9d2e43b58cacfa3d853e500c": {
          "model_module": "@jupyter-widgets/base",
          "model_name": "LayoutModel",
          "state": {
            "_view_name": "LayoutView",
            "grid_template_rows": null,
            "right": null,
            "justify_content": null,
            "_view_module": "@jupyter-widgets/base",
            "overflow": null,
            "_model_module_version": "1.2.0",
            "_view_count": null,
            "flex_flow": null,
            "width": null,
            "min_width": null,
            "border": null,
            "align_items": null,
            "bottom": null,
            "_model_module": "@jupyter-widgets/base",
            "top": null,
            "grid_column": null,
            "overflow_y": null,
            "overflow_x": null,
            "grid_auto_flow": null,
            "grid_area": null,
            "grid_template_columns": null,
            "flex": null,
            "_model_name": "LayoutModel",
            "justify_items": null,
            "grid_row": null,
            "max_height": null,
            "align_content": null,
            "visibility": null,
            "align_self": null,
            "height": null,
            "min_height": null,
            "padding": null,
            "grid_auto_rows": null,
            "grid_gap": null,
            "max_width": null,
            "order": null,
            "_view_module_version": "1.2.0",
            "grid_template_areas": null,
            "object_position": null,
            "object_fit": null,
            "grid_auto_columns": null,
            "margin": null,
            "display": null,
            "left": null
          }
        },
        "b28c746137624e07946c26240fe44a3e": {
          "model_module": "@jupyter-widgets/controls",
          "model_name": "DescriptionStyleModel",
          "state": {
            "_view_name": "StyleView",
            "_model_name": "DescriptionStyleModel",
            "description_width": "",
            "_view_module": "@jupyter-widgets/base",
            "_model_module_version": "1.5.0",
            "_view_count": null,
            "_view_module_version": "1.2.0",
            "_model_module": "@jupyter-widgets/controls"
          }
        },
        "8e17f2e5697c4b0c96f8e2be19226fc9": {
          "model_module": "@jupyter-widgets/base",
          "model_name": "LayoutModel",
          "state": {
            "_view_name": "LayoutView",
            "grid_template_rows": null,
            "right": null,
            "justify_content": null,
            "_view_module": "@jupyter-widgets/base",
            "overflow": null,
            "_model_module_version": "1.2.0",
            "_view_count": null,
            "flex_flow": null,
            "width": null,
            "min_width": null,
            "border": null,
            "align_items": null,
            "bottom": null,
            "_model_module": "@jupyter-widgets/base",
            "top": null,
            "grid_column": null,
            "overflow_y": null,
            "overflow_x": null,
            "grid_auto_flow": null,
            "grid_area": null,
            "grid_template_columns": null,
            "flex": null,
            "_model_name": "LayoutModel",
            "justify_items": null,
            "grid_row": null,
            "max_height": null,
            "align_content": null,
            "visibility": null,
            "align_self": null,
            "height": null,
            "min_height": null,
            "padding": null,
            "grid_auto_rows": null,
            "grid_gap": null,
            "max_width": null,
            "order": null,
            "_view_module_version": "1.2.0",
            "grid_template_areas": null,
            "object_position": null,
            "object_fit": null,
            "grid_auto_columns": null,
            "margin": null,
            "display": null,
            "left": null
          }
        },
        "b501299440fe4c4695c8190492fd3029": {
          "model_module": "@jupyter-widgets/controls",
          "model_name": "HBoxModel",
          "state": {
            "_view_name": "HBoxView",
            "_dom_classes": [],
            "_model_name": "HBoxModel",
            "_view_module": "@jupyter-widgets/controls",
            "_model_module_version": "1.5.0",
            "_view_count": null,
            "_view_module_version": "1.5.0",
            "box_style": "",
            "layout": "IPY_MODEL_59837276ffb449db80bf222c994012f5",
            "_model_module": "@jupyter-widgets/controls",
            "children": [
              "IPY_MODEL_4a3bc5f444414d9d87a39b01201df4c4",
              "IPY_MODEL_7fd1985f413d491c993945cd322d3660"
            ]
          }
        },
        "59837276ffb449db80bf222c994012f5": {
          "model_module": "@jupyter-widgets/base",
          "model_name": "LayoutModel",
          "state": {
            "_view_name": "LayoutView",
            "grid_template_rows": null,
            "right": null,
            "justify_content": null,
            "_view_module": "@jupyter-widgets/base",
            "overflow": null,
            "_model_module_version": "1.2.0",
            "_view_count": null,
            "flex_flow": null,
            "width": null,
            "min_width": null,
            "border": null,
            "align_items": null,
            "bottom": null,
            "_model_module": "@jupyter-widgets/base",
            "top": null,
            "grid_column": null,
            "overflow_y": null,
            "overflow_x": null,
            "grid_auto_flow": null,
            "grid_area": null,
            "grid_template_columns": null,
            "flex": null,
            "_model_name": "LayoutModel",
            "justify_items": null,
            "grid_row": null,
            "max_height": null,
            "align_content": null,
            "visibility": null,
            "align_self": null,
            "height": null,
            "min_height": null,
            "padding": null,
            "grid_auto_rows": null,
            "grid_gap": null,
            "max_width": null,
            "order": null,
            "_view_module_version": "1.2.0",
            "grid_template_areas": null,
            "object_position": null,
            "object_fit": null,
            "grid_auto_columns": null,
            "margin": null,
            "display": null,
            "left": null
          }
        },
        "4a3bc5f444414d9d87a39b01201df4c4": {
          "model_module": "@jupyter-widgets/controls",
          "model_name": "FloatProgressModel",
          "state": {
            "_view_name": "ProgressView",
            "style": "IPY_MODEL_35b1d89e4b1044409f62335c926b18ce",
            "_dom_classes": [],
            "description": "Downloading: 100%",
            "_model_name": "FloatProgressModel",
            "bar_style": "success",
            "max": 363423424,
            "_view_module": "@jupyter-widgets/controls",
            "_model_module_version": "1.5.0",
            "value": 363423424,
            "_view_count": null,
            "_view_module_version": "1.5.0",
            "orientation": "horizontal",
            "min": 0,
            "description_tooltip": null,
            "_model_module": "@jupyter-widgets/controls",
            "layout": "IPY_MODEL_724f8b690c964ed3947483f0c1fb6f9d"
          }
        },
        "7fd1985f413d491c993945cd322d3660": {
          "model_module": "@jupyter-widgets/controls",
          "model_name": "HTMLModel",
          "state": {
            "_view_name": "HTMLView",
            "style": "IPY_MODEL_92c4242407f944e2b5ef2ff2f012de0b",
            "_dom_classes": [],
            "description": "",
            "_model_name": "HTMLModel",
            "placeholder": "​",
            "_view_module": "@jupyter-widgets/controls",
            "_model_module_version": "1.5.0",
            "value": " 363M/363M [00:13&lt;00:00, 27.3MB/s]",
            "_view_count": null,
            "_view_module_version": "1.5.0",
            "description_tooltip": null,
            "_model_module": "@jupyter-widgets/controls",
            "layout": "IPY_MODEL_c2acc8df01a1437bacfcf2f4dc5f3774"
          }
        },
        "35b1d89e4b1044409f62335c926b18ce": {
          "model_module": "@jupyter-widgets/controls",
          "model_name": "ProgressStyleModel",
          "state": {
            "_view_name": "StyleView",
            "_model_name": "ProgressStyleModel",
            "description_width": "initial",
            "_view_module": "@jupyter-widgets/base",
            "_model_module_version": "1.5.0",
            "_view_count": null,
            "_view_module_version": "1.2.0",
            "bar_color": null,
            "_model_module": "@jupyter-widgets/controls"
          }
        },
        "724f8b690c964ed3947483f0c1fb6f9d": {
          "model_module": "@jupyter-widgets/base",
          "model_name": "LayoutModel",
          "state": {
            "_view_name": "LayoutView",
            "grid_template_rows": null,
            "right": null,
            "justify_content": null,
            "_view_module": "@jupyter-widgets/base",
            "overflow": null,
            "_model_module_version": "1.2.0",
            "_view_count": null,
            "flex_flow": null,
            "width": null,
            "min_width": null,
            "border": null,
            "align_items": null,
            "bottom": null,
            "_model_module": "@jupyter-widgets/base",
            "top": null,
            "grid_column": null,
            "overflow_y": null,
            "overflow_x": null,
            "grid_auto_flow": null,
            "grid_area": null,
            "grid_template_columns": null,
            "flex": null,
            "_model_name": "LayoutModel",
            "justify_items": null,
            "grid_row": null,
            "max_height": null,
            "align_content": null,
            "visibility": null,
            "align_self": null,
            "height": null,
            "min_height": null,
            "padding": null,
            "grid_auto_rows": null,
            "grid_gap": null,
            "max_width": null,
            "order": null,
            "_view_module_version": "1.2.0",
            "grid_template_areas": null,
            "object_position": null,
            "object_fit": null,
            "grid_auto_columns": null,
            "margin": null,
            "display": null,
            "left": null
          }
        },
        "92c4242407f944e2b5ef2ff2f012de0b": {
          "model_module": "@jupyter-widgets/controls",
          "model_name": "DescriptionStyleModel",
          "state": {
            "_view_name": "StyleView",
            "_model_name": "DescriptionStyleModel",
            "description_width": "",
            "_view_module": "@jupyter-widgets/base",
            "_model_module_version": "1.5.0",
            "_view_count": null,
            "_view_module_version": "1.2.0",
            "_model_module": "@jupyter-widgets/controls"
          }
        },
        "c2acc8df01a1437bacfcf2f4dc5f3774": {
          "model_module": "@jupyter-widgets/base",
          "model_name": "LayoutModel",
          "state": {
            "_view_name": "LayoutView",
            "grid_template_rows": null,
            "right": null,
            "justify_content": null,
            "_view_module": "@jupyter-widgets/base",
            "overflow": null,
            "_model_module_version": "1.2.0",
            "_view_count": null,
            "flex_flow": null,
            "width": null,
            "min_width": null,
            "border": null,
            "align_items": null,
            "bottom": null,
            "_model_module": "@jupyter-widgets/base",
            "top": null,
            "grid_column": null,
            "overflow_y": null,
            "overflow_x": null,
            "grid_auto_flow": null,
            "grid_area": null,
            "grid_template_columns": null,
            "flex": null,
            "_model_name": "LayoutModel",
            "justify_items": null,
            "grid_row": null,
            "max_height": null,
            "align_content": null,
            "visibility": null,
            "align_self": null,
            "height": null,
            "min_height": null,
            "padding": null,
            "grid_auto_rows": null,
            "grid_gap": null,
            "max_width": null,
            "order": null,
            "_view_module_version": "1.2.0",
            "grid_template_areas": null,
            "object_position": null,
            "object_fit": null,
            "grid_auto_columns": null,
            "margin": null,
            "display": null,
            "left": null
          }
        }
      }
    }
  },
  "cells": [
    {
      "cell_type": "markdown",
      "metadata": {
        "id": "view-in-github",
        "colab_type": "text"
      },
      "source": [
        "<a href=\"https://colab.research.google.com/github/prateeknigam9/Meme-classifier/blob/main/Text_Based_Models.ipynb\" target=\"_parent\"><img src=\"https://colab.research.google.com/assets/colab-badge.svg\" alt=\"Open In Colab\"/></a>"
      ]
    },
    {
      "cell_type": "markdown",
      "metadata": {
        "id": "4cbgwZWWfWpp"
      },
      "source": [
        "# Text based Models\n"
      ]
    },
    {
      "cell_type": "code",
      "metadata": {
        "id": "tAb77yZ9fzMG"
      },
      "source": [
        "from google.colab import drive\n",
        "drive.mount('/content/drive')\n",
        "%cd '/content/drive/MyDrive/Colab Notebooks/Case_study2/data'"
      ],
      "execution_count": null,
      "outputs": []
    },
    {
      "cell_type": "code",
      "metadata": {
        "id": "vmSfOrqV-vvo"
      },
      "source": [
        "#importing libraries\n",
        "import pandas as pd\n",
        "import numpy as np\n",
        "import matplotlib.pyplot as plt\n",
        "%matplotlib inline\n",
        "import seaborn as sns\n",
        "from sklearn.model_selection import train_test_split\n",
        "import tensorflow as tf\n",
        "from tensorflow.keras import Model\n",
        "from tensorflow.keras.layers import Input,Dense,LSTM,Embedding,Bidirectional\n",
        "import tensorflow_hub as hub\n",
        "from sklearn.metrics import confusion_matrix,accuracy_score,roc_auc_score,roc_curve,classification_report"
      ],
      "execution_count": null,
      "outputs": []
    },
    {
      "cell_type": "code",
      "metadata": {
        "id": "pafL7Li0jyXW"
      },
      "source": [
        "data = pd.read_csv('data.csv')\n",
        "data.head()"
      ],
      "execution_count": null,
      "outputs": []
    },
    {
      "cell_type": "code",
      "metadata": {
        "id": "WZJK-lF8-rK4"
      },
      "source": [
        "#text based features\n",
        "data = data[['clean_sent','title','Dank_or_not']]\n",
        "data.head()"
      ],
      "execution_count": null,
      "outputs": []
    },
    {
      "cell_type": "code",
      "metadata": {
        "id": "8OTK225I_D-2"
      },
      "source": [
        "data['title'] = data['title'].apply(lambda x:x.lower())"
      ],
      "execution_count": null,
      "outputs": []
    },
    {
      "cell_type": "code",
      "metadata": {
        "id": "F6oqnMvu_W9Q"
      },
      "source": [
        "sns.countplot(x=\"Dank_or_not\", data=data)\n",
        "plt.title(\"Target distribution\")"
      ],
      "execution_count": null,
      "outputs": []
    },
    {
      "cell_type": "markdown",
      "metadata": {
        "id": "v1rwJhsaBpXy"
      },
      "source": [
        "Baseline Model\n",
        "LSTM\n",
        "BERT"
      ]
    },
    {
      "cell_type": "code",
      "metadata": {
        "id": "MS48STVxCI8H"
      },
      "source": [
        "X = data[['clean_sent','title']]\n",
        "y = data['Dank_or_not']"
      ],
      "execution_count": null,
      "outputs": []
    },
    {
      "cell_type": "code",
      "metadata": {
        "id": "uvgJaUgDBo1N"
      },
      "source": [
        "#splitting the data in train, cross_validation and test data\n",
        "X_train, X_test, y_train, y_test = train_test_split(X, y, test_size=0.33, stratify = y)\n",
        "X_train, X_cv, y_train, y_cv = train_test_split(X_train, y_train, test_size=0.33, stratify=y_train)"
      ],
      "execution_count": null,
      "outputs": []
    },
    {
      "cell_type": "code",
      "metadata": {
        "colab": {
          "base_uri": "https://localhost:8080/",
          "height": 298
        },
        "id": "QpuZWWZJUqmv",
        "outputId": "e8a64b34-e606-4216-c923-3e2ef4fb4c79"
      },
      "source": [
        "fig, (ax1, ax2) = plt.subplots(1, 2)\n",
        "ax1.hist(y_train)\n",
        "ax1.set_title('Y_train Distribution')\n",
        "ax2.hist(y_test)\n",
        "ax2.set_title('Y_test Distribution')"
      ],
      "execution_count": null,
      "outputs": [
        {
          "output_type": "execute_result",
          "data": {
            "text/plain": [
              "Text(0.5, 1.0, 'Y_test Distribution')"
            ]
          },
          "metadata": {
            "tags": []
          },
          "execution_count": 9
        },
        {
          "output_type": "display_data",
          "data": {
            "image/png": "[encoded data removed]",
            "text/plain": [
              "<Figure size 432x288 with 2 Axes>"
            ]
          },
          "metadata": {
            "tags": [],
            "needs_background": "light"
          }
        }
      ]
    },
    {
      "cell_type": "code",
      "metadata": {
        "id": "xxsiBwNVCeQL"
      },
      "source": [
        "import tensorflow as tf\n",
        "from tensorflow.keras.preprocessing.text import Tokenizer\n",
        "from tensorflow.keras.preprocessing.sequence import pad_sequences"
      ],
      "execution_count": null,
      "outputs": []
    },
    {
      "cell_type": "code",
      "metadata": {
        "id": "xsOxvNRNDSw1"
      },
      "source": [
        "tokenizer = Tokenizer()\n",
        "tokenizer.fit_on_texts(X_train['clean_sent'])"
      ],
      "execution_count": null,
      "outputs": []
    },
    {
      "cell_type": "code",
      "metadata": {
        "colab": {
          "base_uri": "https://localhost:8080/"
        },
        "id": "n_JE3i24DaDg",
        "outputId": "6eb7cea9-0d77-4a9b-d38a-5ef1f6e24d0d"
      },
      "source": [
        "dict(list(tokenizer.word_index.items())[0: 10])"
      ],
      "execution_count": null,
      "outputs": [
        {
          "output_type": "execute_result",
          "data": {
            "text/plain": [
              "{'a': 3,\n",
              " 'and': 5,\n",
              " 'in': 6,\n",
              " 'is': 9,\n",
              " 'of': 8,\n",
              " 's': 10,\n",
              " 'the': 1,\n",
              " 'to': 4,\n",
              " 'when': 7,\n",
              " 'you': 2}"
            ]
          },
          "metadata": {
            "tags": []
          },
          "execution_count": 12
        }
      ]
    },
    {
      "cell_type": "code",
      "metadata": {
        "colab": {
          "base_uri": "https://localhost:8080/"
        },
        "id": "cdLbkO0cD-I3",
        "outputId": "19b4bb76-71ae-4edb-f6f5-036a6a92d13c"
      },
      "source": [
        "lenth = X_train['clean_sent'].apply(lambda x:len(x))\n",
        "print(np.mean(lenth))\n",
        "del lenth"
      ],
      "execution_count": null,
      "outputs": [
        {
          "output_type": "stream",
          "text": [
            "105.25069252077563\n"
          ],
          "name": "stdout"
        }
      ]
    },
    {
      "cell_type": "code",
      "metadata": {
        "id": "Z0AC9xtcE-Dd"
      },
      "source": [
        "train_sequence = tokenizer.texts_to_sequences(X_train['clean_sent'])\n",
        "cv_sequence = tokenizer.texts_to_sequences(X_cv['clean_sent'])"
      ],
      "execution_count": null,
      "outputs": []
    },
    {
      "cell_type": "code",
      "metadata": {
        "id": "2MMbY8iLFH9o"
      },
      "source": [
        "padded_train = pad_sequences(train_sequence,maxlen=25,padding='post')\n",
        "padded_cv = pad_sequences(cv_sequence,maxlen=25,padding='post')"
      ],
      "execution_count": null,
      "outputs": []
    },
    {
      "cell_type": "code",
      "metadata": {
        "colab": {
          "base_uri": "https://localhost:8080/"
        },
        "id": "ox23ZSlOFTH4",
        "outputId": "8d1eae98-faed-45ff-e6b3-951bc479f896"
      },
      "source": [
        "train_sequence[0]"
      ],
      "execution_count": null,
      "outputs": [
        {
          "output_type": "execute_result",
          "data": {
            "text/plain": [
              "[1491, 2478, 355, 824, 2479, 40, 11, 501, 14, 119, 283, 2480]"
            ]
          },
          "metadata": {
            "tags": []
          },
          "execution_count": 16
        }
      ]
    },
    {
      "cell_type": "code",
      "metadata": {
        "colab": {
          "base_uri": "https://localhost:8080/"
        },
        "id": "_J4pT8YvGRyt",
        "outputId": "35275898-a614-4043-b2e6-1b7f39bc6ec4"
      },
      "source": [
        "padded_train[0]"
      ],
      "execution_count": null,
      "outputs": [
        {
          "output_type": "execute_result",
          "data": {
            "text/plain": [
              "array([1491, 2478,  355,  824, 2479,   40,   11,  501,   14,  119,  283,\n",
              "       2480,    0,    0,    0,    0,    0,    0,    0,    0,    0,    0,\n",
              "          0,    0,    0], dtype=int32)"
            ]
          },
          "metadata": {
            "tags": []
          },
          "execution_count": 17
        }
      ]
    },
    {
      "cell_type": "markdown",
      "metadata": {
        "id": "eujLqS88HzAx"
      },
      "source": [
        "### BaseLine Model"
      ]
    },
    {
      "cell_type": "code",
      "metadata": {
        "id": "Sw5znxA4fzoS"
      },
      "source": [
        "def threshold_func(true,pred):\n",
        "  FPR,TPR,th = roc_curve(true,pred)\n",
        "  return th\n",
        "def threshold(true,pred):\n",
        "    return tf.py_function(threshold_func,(true,pred),tf.double)"
      ],
      "execution_count": null,
      "outputs": []
    },
    {
      "cell_type": "code",
      "metadata": {
        "colab": {
          "base_uri": "https://localhost:8080/"
        },
        "id": "TW8ffhb5GWVr",
        "outputId": "b4901aa9-00e0-4aad-90db-ae04b0e69e92"
      },
      "source": [
        "tf.keras.backend.clear_session()\n",
        "input = Input(shape=(25,))\n",
        "dense_layer = Dense(64,activation='relu')(input)\n",
        "dense_layer = Dense(32,activation='relu')(dense_layer)\n",
        "dense_layer = Dense(16,activation='relu')(dense_layer)\n",
        "dense_layer = Dense(8,activation='relu')(dense_layer)\n",
        "output = Dense(1,activation='sigmoid')(dense_layer)\n",
        "\n",
        "model = Model(input,output)\n",
        "model.compile(optimizer = tf.keras.optimizers.Adam(),\n",
        "              loss = 'binary_crossentropy',\n",
        "              metrics=['accuracy',tf.keras.metrics.AUC(),threshold])\n",
        "model.summary()"
      ],
      "execution_count": null,
      "outputs": [
        {
          "output_type": "stream",
          "text": [
            "Model: \"model\"\n",
            "_________________________________________________________________\n",
            "Layer (type)                 Output Shape              Param #   \n",
            "=================================================================\n",
            "input_1 (InputLayer)         [(None, 25)]              0         \n",
            "_________________________________________________________________\n",
            "dense (Dense)                (None, 64)                1664      \n",
            "_________________________________________________________________\n",
            "dense_1 (Dense)              (None, 32)                2080      \n",
            "_________________________________________________________________\n",
            "dense_2 (Dense)              (None, 16)                528       \n",
            "_________________________________________________________________\n",
            "dense_3 (Dense)              (None, 8)                 136       \n",
            "_________________________________________________________________\n",
            "dense_4 (Dense)              (None, 1)                 9         \n",
            "=================================================================\n",
            "Total params: 4,417\n",
            "Trainable params: 4,417\n",
            "Non-trainable params: 0\n",
            "_________________________________________________________________\n"
          ],
          "name": "stdout"
        }
      ]
    },
    {
      "cell_type": "code",
      "metadata": {
        "colab": {
          "base_uri": "https://localhost:8080/"
        },
        "id": "ZGwusI_MJDcU",
        "outputId": "fd0c922b-8c19-4bf3-dec7-b4a1311ceb85"
      },
      "source": [
        "history = model.fit(padded_train,y_train,validation_data=(padded_cv,y_cv),epochs=30,verbose=2)"
      ],
      "execution_count": null,
      "outputs": [
        {
          "output_type": "stream",
          "text": [
            "Epoch 1/30\n",
            "46/46 - 1s - loss: 106.5801 - accuracy: 0.5038 - auc: 0.5160 - threshold: 0.4442 - val_loss: 12.7418 - val_accuracy: 0.4860 - val_auc: 0.5263 - val_threshold: 0.3777\n",
            "Epoch 2/30\n",
            "46/46 - 0s - loss: 5.7925 - accuracy: 0.5204 - auc: 0.5269 - threshold: 0.5030 - val_loss: 2.4578 - val_accuracy: 0.4888 - val_auc: 0.4845 - val_threshold: 0.7048\n",
            "Epoch 3/30\n",
            "46/46 - 0s - loss: 1.6056 - accuracy: 0.5266 - auc: 0.5338 - threshold: 0.7384 - val_loss: 1.5971 - val_accuracy: 0.5000 - val_auc: 0.5027 - val_threshold: 0.7603\n",
            "Epoch 4/30\n",
            "46/46 - 0s - loss: 0.9702 - accuracy: 0.5211 - auc: 0.5115 - threshold: 0.7746 - val_loss: 1.2753 - val_accuracy: 0.5084 - val_auc: 0.5131 - val_threshold: 0.7118\n",
            "Epoch 5/30\n",
            "46/46 - 0s - loss: 0.8198 - accuracy: 0.5135 - auc: 0.5230 - threshold: 0.7325 - val_loss: 1.0748 - val_accuracy: 0.5028 - val_auc: 0.5108 - val_threshold: 0.8035\n",
            "Epoch 6/30\n",
            "46/46 - 0s - loss: 0.7313 - accuracy: 0.5142 - auc: 0.5271 - threshold: 0.8427 - val_loss: 1.0130 - val_accuracy: 0.5028 - val_auc: 0.5082 - val_threshold: 0.8181\n",
            "Epoch 7/30\n",
            "46/46 - 0s - loss: 0.7110 - accuracy: 0.5183 - auc: 0.5106 - threshold: 0.8730 - val_loss: 0.9967 - val_accuracy: 0.5000 - val_auc: 0.5095 - val_threshold: 0.8022\n",
            "Epoch 8/30\n",
            "46/46 - 0s - loss: 0.7013 - accuracy: 0.5197 - auc: 0.5065 - threshold: 0.8700 - val_loss: 0.9890 - val_accuracy: 0.4986 - val_auc: 0.5081 - val_threshold: 0.8158\n",
            "Epoch 9/30\n",
            "46/46 - 0s - loss: 0.6918 - accuracy: 0.5176 - auc: 0.5299 - threshold: 0.8350 - val_loss: 0.9889 - val_accuracy: 0.4986 - val_auc: 0.5082 - val_threshold: 0.7958\n",
            "Epoch 10/30\n",
            "46/46 - 0s - loss: 0.6860 - accuracy: 0.5204 - auc: 0.5339 - threshold: 0.8604 - val_loss: 0.9834 - val_accuracy: 0.4986 - val_auc: 0.5068 - val_threshold: 0.7991\n",
            "Epoch 11/30\n",
            "46/46 - 0s - loss: 0.6866 - accuracy: 0.5169 - auc: 0.5269 - threshold: 0.8352 - val_loss: 0.9791 - val_accuracy: 0.5014 - val_auc: 0.5108 - val_threshold: 0.7877\n",
            "Epoch 12/30\n",
            "46/46 - 0s - loss: 0.6833 - accuracy: 0.5211 - auc: 0.5280 - threshold: 0.8528 - val_loss: 0.9716 - val_accuracy: 0.5014 - val_auc: 0.5108 - val_threshold: 0.7899\n",
            "Epoch 13/30\n",
            "46/46 - 0s - loss: 0.6818 - accuracy: 0.5225 - auc: 0.5314 - threshold: 0.8201 - val_loss: 0.9694 - val_accuracy: 0.5028 - val_auc: 0.5134 - val_threshold: 0.7992\n",
            "Epoch 14/30\n",
            "46/46 - 0s - loss: 0.6799 - accuracy: 0.5232 - auc: 0.5314 - threshold: 0.8110 - val_loss: 0.9687 - val_accuracy: 0.5000 - val_auc: 0.5082 - val_threshold: 0.7892\n",
            "Epoch 15/30\n",
            "46/46 - 0s - loss: 0.6779 - accuracy: 0.5245 - auc: 0.5340 - threshold: 0.8244 - val_loss: 0.9702 - val_accuracy: 0.5028 - val_auc: 0.5120 - val_threshold: 0.7817\n",
            "Epoch 16/30\n",
            "46/46 - 0s - loss: 0.6792 - accuracy: 0.5252 - auc: 0.5367 - threshold: 0.7787 - val_loss: 0.9662 - val_accuracy: 0.5056 - val_auc: 0.5173 - val_threshold: 0.7962\n",
            "Epoch 17/30\n",
            "46/46 - 0s - loss: 0.6773 - accuracy: 0.5232 - auc: 0.5321 - threshold: 0.8104 - val_loss: 0.9639 - val_accuracy: 0.5028 - val_auc: 0.5121 - val_threshold: 0.7957\n",
            "Epoch 18/30\n",
            "46/46 - 0s - loss: 0.6762 - accuracy: 0.5252 - auc: 0.5360 - threshold: 0.8376 - val_loss: 0.9649 - val_accuracy: 0.5070 - val_auc: 0.5186 - val_threshold: 0.7862\n",
            "Epoch 19/30\n",
            "46/46 - 0s - loss: 0.6748 - accuracy: 0.5266 - auc: 0.5387 - threshold: 0.8366 - val_loss: 1.0855 - val_accuracy: 0.5042 - val_auc: 0.5144 - val_threshold: 0.7619\n",
            "Epoch 20/30\n",
            "46/46 - 0s - loss: 0.6748 - accuracy: 0.5245 - auc: 0.5368 - threshold: 0.7896 - val_loss: 1.0640 - val_accuracy: 0.4972 - val_auc: 0.5030 - val_threshold: 0.7981\n",
            "Epoch 21/30\n",
            "46/46 - 0s - loss: 0.6727 - accuracy: 0.5294 - auc: 0.5426 - threshold: 0.8496 - val_loss: 1.0640 - val_accuracy: 0.5014 - val_auc: 0.5106 - val_threshold: 0.7703\n",
            "Epoch 22/30\n",
            "46/46 - 0s - loss: 0.6726 - accuracy: 0.5266 - auc: 0.5394 - threshold: 0.8144 - val_loss: 1.0663 - val_accuracy: 0.4986 - val_auc: 0.5080 - val_threshold: 0.7645\n",
            "Epoch 23/30\n",
            "46/46 - 0s - loss: 0.6725 - accuracy: 0.5287 - auc: 0.5406 - threshold: 0.8402 - val_loss: 1.0715 - val_accuracy: 0.5042 - val_auc: 0.5145 - val_threshold: 0.7603\n",
            "Epoch 24/30\n",
            "46/46 - 0s - loss: 0.6731 - accuracy: 0.5259 - auc: 0.5368 - threshold: 0.8137 - val_loss: 1.0670 - val_accuracy: 0.5000 - val_auc: 0.5120 - val_threshold: 0.7715\n",
            "Epoch 25/30\n",
            "46/46 - 0s - loss: 0.6717 - accuracy: 0.5266 - auc: 0.5381 - threshold: 0.8222 - val_loss: 1.0734 - val_accuracy: 0.5056 - val_auc: 0.5145 - val_threshold: 0.7342\n",
            "Epoch 26/30\n",
            "46/46 - 0s - loss: 0.6705 - accuracy: 0.5273 - auc: 0.5420 - threshold: 0.8231 - val_loss: 1.0713 - val_accuracy: 0.5000 - val_auc: 0.5095 - val_threshold: 0.7663\n",
            "Epoch 27/30\n",
            "46/46 - 0s - loss: 0.6705 - accuracy: 0.5280 - auc: 0.5400 - threshold: 0.8173 - val_loss: 1.0813 - val_accuracy: 0.5014 - val_auc: 0.5106 - val_threshold: 0.7500\n",
            "Epoch 28/30\n",
            "46/46 - 0s - loss: 0.6732 - accuracy: 0.5266 - auc: 0.5406 - threshold: 0.8107 - val_loss: 1.1043 - val_accuracy: 0.5042 - val_auc: 0.5145 - val_threshold: 0.7341\n",
            "Epoch 29/30\n",
            "46/46 - 0s - loss: 0.6691 - accuracy: 0.5266 - auc: 0.5413 - threshold: 0.8339 - val_loss: 1.0926 - val_accuracy: 0.5000 - val_auc: 0.5094 - val_threshold: 0.7627\n",
            "Epoch 30/30\n",
            "46/46 - 0s - loss: 0.6690 - accuracy: 0.5294 - auc: 0.5439 - threshold: 0.8427 - val_loss: 1.0976 - val_accuracy: 0.5014 - val_auc: 0.5093 - val_threshold: 0.7206\n"
          ],
          "name": "stdout"
        }
      ]
    },
    {
      "cell_type": "code",
      "metadata": {
        "colab": {
          "base_uri": "https://localhost:8080/",
          "height": 281
        },
        "id": "GtG1m02zKT7F",
        "outputId": "ec075879-df45-4cdd-d9dc-3ef374aff24c"
      },
      "source": [
        "plt.plot(history.history['val_loss'])\n",
        "plt.title(\"Loss\")\n",
        "plt.show()"
      ],
      "execution_count": null,
      "outputs": [
        {
          "output_type": "display_data",
          "data": {
            "image/png": "[encoded data removed]",
            "text/plain": [
              "<Figure size 432x288 with 1 Axes>"
            ]
          },
          "metadata": {
            "tags": [],
            "needs_background": "light"
          }
        }
      ]
    },
    {
      "cell_type": "code",
      "metadata": {
        "colab": {
          "base_uri": "https://localhost:8080/",
          "height": 281
        },
        "id": "SKM2v463LIgA",
        "outputId": "c821a192-e1d6-4bd8-a175-9310163b62b3"
      },
      "source": [
        "plt.plot(history.history['val_auc'])\n",
        "plt.title(\"Accuracy\")\n",
        "plt.show()"
      ],
      "execution_count": null,
      "outputs": [
        {
          "output_type": "display_data",
          "data": {
            "image/png": "[encoded data removed]",
            "text/plain": [
              "<Figure size 432x288 with 1 Axes>"
            ]
          },
          "metadata": {
            "tags": [],
            "needs_background": "light"
          }
        }
      ]
    },
    {
      "cell_type": "code",
      "metadata": {
        "id": "N_mOm_qJWLho"
      },
      "source": [
        "def predict(test,model,th):\n",
        "    tokenizer.fit_on_texts(test)\n",
        "    test_sequence = tokenizer.texts_to_sequences(test)\n",
        "    padded_test = pad_sequences(test_sequence,maxlen=25,padding='post') \n",
        "    pred = model.predict(padded_test)\n",
        "    predicted=[]\n",
        "    for i in pred:\n",
        "       if i > th:\n",
        "          predicted.append(1)\n",
        "       else:\n",
        "          predicted.append(0)\n",
        "\n",
        "    return predicted"
      ],
      "execution_count": null,
      "outputs": []
    },
    {
      "cell_type": "code",
      "metadata": {
        "id": "dEzpKhlxXw16"
      },
      "source": [
        "def metrics(true,pred):\n",
        "    result={}\n",
        "    cf = confusion_matrix(true,pred)\n",
        "    sns.heatmap(cf)\n",
        "    plt.show()\n",
        "\n",
        "    acc = accuracy_score(true,pred)\n",
        "    print(\"#####################\")\n",
        "    print(\"accuracy:\",acc)\n",
        "    print(\"#####################\")\n",
        "\n",
        "    auc_score = roc_auc_score(true,pred)\n",
        "    print(\"#####################\")\n",
        "    print(\"auc_score:\",auc_score)\n",
        "    print(\"#####################\")\n",
        "    \n",
        "    CR = classification_report(true,pred)\n",
        "    print(\"#####################\")\n",
        "    print(\"classsifciation Report\",CR)\n",
        "    print(\"#####################\")\n",
        "\n",
        "    result['accuracy'] = acc\n",
        "    result['roc_auc_score'] = auc_score\n",
        "    result['classification_report'] = CR\n",
        "\n",
        "    return result"
      ],
      "execution_count": null,
      "outputs": []
    },
    {
      "cell_type": "code",
      "metadata": {
        "colab": {
          "base_uri": "https://localhost:8080/",
          "height": 567
        },
        "id": "GhNVvDTUdFFs",
        "outputId": "e6df1467-070b-4612-ef04-8c1bc9112663"
      },
      "source": [
        "pred = predict(X_test['clean_sent'],model,th = 0.7206)\n",
        "result = metrics(y_test,pred)"
      ],
      "execution_count": null,
      "outputs": [
        {
          "output_type": "display_data",
          "data": {
            "image/png": "[encoded data removed]",
            "text/plain": [
              "<Figure size 432x288 with 2 Axes>"
            ]
          },
          "metadata": {
            "tags": [],
            "needs_background": "light"
          }
        },
        {
          "output_type": "stream",
          "text": [
            "#####################\n",
            "accuracy: 0.5032863849765258\n",
            "#####################\n",
            "#####################\n",
            "auc_score: 0.5028230755124208\n",
            "#####################\n",
            "#####################\n",
            "classsifciation Report               precision    recall  f1-score   support\n",
            "\n",
            "           0       0.50      1.00      0.67       533\n",
            "           1       0.71      0.01      0.02       532\n",
            "\n",
            "    accuracy                           0.50      1065\n",
            "   macro avg       0.61      0.50      0.34      1065\n",
            "weighted avg       0.61      0.50      0.34      1065\n",
            "\n",
            "#####################\n"
          ],
          "name": "stdout"
        }
      ]
    },
    {
      "cell_type": "markdown",
      "metadata": {
        "id": "e6ZylAXRMA_C"
      },
      "source": [
        "Although, there we see the lost decreasing and the auc score as increasing, but the performance of the model is not good, thus we can move forward with advance long term memory models."
      ]
    },
    {
      "cell_type": "markdown",
      "metadata": {
        "id": "yxXX3_IPMVPM"
      },
      "source": [
        "### LSTM Model"
      ]
    },
    {
      "cell_type": "code",
      "metadata": {
        "id": "h7Q-tClCQVe2"
      },
      "source": [
        "vocab_size = len(tokenizer.index_word)"
      ],
      "execution_count": null,
      "outputs": []
    },
    {
      "cell_type": "code",
      "metadata": {
        "colab": {
          "base_uri": "https://localhost:8080/"
        },
        "id": "2zO_qkIOLPPb",
        "outputId": "a8820d2b-86fb-419e-d685-c82175f3d40a"
      },
      "source": [
        "tf.keras.backend.clear_session()\n",
        "inputs = Input(name='inputs',shape=(25,))\n",
        "layer = Embedding(input_dim=vocab_size+1,output_dim=64,mask_zero=True)(inputs)\n",
        "layer = LSTM(64)(layer)\n",
        "layer = Dense(256,activation='relu')(layer)\n",
        "layer = Dense(64,activation='relu')(layer)\n",
        "output = Dense(1,activation='sigmoid')(layer)\n",
        "\n",
        "model_lstm = Model(inputs=inputs,outputs=output)\n",
        "\n",
        "model_lstm.compile(optimizer=tf.keras.optimizers.Adam(),\n",
        "                   loss='binary_crossentropy',\n",
        "                   metrics=['accuracy',tf.keras.metrics.AUC(),threshold])\n",
        "model_lstm.summary()"
      ],
      "execution_count": null,
      "outputs": [
        {
          "output_type": "stream",
          "text": [
            "Model: \"model\"\n",
            "_________________________________________________________________\n",
            "Layer (type)                 Output Shape              Param #   \n",
            "=================================================================\n",
            "inputs (InputLayer)          [(None, 25)]              0         \n",
            "_________________________________________________________________\n",
            "embedding (Embedding)        (None, 25, 64)            754496    \n",
            "_________________________________________________________________\n",
            "lstm (LSTM)                  (None, 64)                33024     \n",
            "_________________________________________________________________\n",
            "dense (Dense)                (None, 256)               16640     \n",
            "_________________________________________________________________\n",
            "dense_1 (Dense)              (None, 64)                16448     \n",
            "_________________________________________________________________\n",
            "dense_2 (Dense)              (None, 1)                 65        \n",
            "=================================================================\n",
            "Total params: 820,673\n",
            "Trainable params: 820,673\n",
            "Non-trainable params: 0\n",
            "_________________________________________________________________\n"
          ],
          "name": "stdout"
        }
      ]
    },
    {
      "cell_type": "code",
      "metadata": {
        "colab": {
          "base_uri": "https://localhost:8080/"
        },
        "id": "o2AJre9UOAfj",
        "outputId": "d8dc2f7b-ba3e-4908-f2e9-e8b323063297"
      },
      "source": [
        "history = model_lstm.fit(padded_train,y_train,validation_data=(padded_cv,y_cv),epochs=30,verbose=2)"
      ],
      "execution_count": null,
      "outputs": [
        {
          "output_type": "stream",
          "text": [
            "Epoch 1/30\n",
            "46/46 - 7s - loss: 0.6928 - accuracy: 0.5197 - auc: 0.5193 - threshold: 0.5499 - val_loss: 0.6907 - val_accuracy: 0.5532 - val_auc: 0.5572 - val_threshold: 0.5486\n",
            "Epoch 2/30\n",
            "46/46 - 2s - loss: 0.5744 - accuracy: 0.7657 - auc: 0.8102 - threshold: 0.5796 - val_loss: 0.8234 - val_accuracy: 0.5448 - val_auc: 0.5335 - val_threshold: 0.5593\n",
            "Epoch 3/30\n",
            "46/46 - 2s - loss: 0.1723 - accuracy: 0.9454 - auc: 0.9810 - threshold: 0.8025 - val_loss: 1.2126 - val_accuracy: 0.5266 - val_auc: 0.5231 - val_threshold: 0.6123\n",
            "Epoch 4/30\n",
            "46/46 - 2s - loss: 0.0858 - accuracy: 0.9737 - auc: 0.9940 - threshold: 0.8872 - val_loss: 1.5794 - val_accuracy: 0.5210 - val_auc: 0.5110 - val_threshold: 0.5335\n",
            "Epoch 5/30\n",
            "46/46 - 2s - loss: 0.0565 - accuracy: 0.9834 - auc: 0.9969 - threshold: 0.9137 - val_loss: 1.5937 - val_accuracy: 0.5224 - val_auc: 0.5060 - val_threshold: 0.5723\n",
            "Epoch 6/30\n",
            "46/46 - 2s - loss: 0.0554 - accuracy: 0.9820 - auc: 0.9969 - threshold: 0.9353 - val_loss: 1.5962 - val_accuracy: 0.5322 - val_auc: 0.5180 - val_threshold: 0.5044\n",
            "Epoch 7/30\n",
            "46/46 - 2s - loss: 0.0554 - accuracy: 0.9841 - auc: 0.9963 - threshold: 0.9297 - val_loss: 1.5299 - val_accuracy: 0.5168 - val_auc: 0.5116 - val_threshold: 0.5679\n",
            "Epoch 8/30\n",
            "46/46 - 2s - loss: 0.0505 - accuracy: 0.9827 - auc: 0.9971 - threshold: 0.9501 - val_loss: 1.7845 - val_accuracy: 0.5266 - val_auc: 0.5146 - val_threshold: 0.5221\n",
            "Epoch 9/30\n",
            "46/46 - 2s - loss: 0.0522 - accuracy: 0.9806 - auc: 0.9979 - threshold: 0.9473 - val_loss: 1.6178 - val_accuracy: 0.5294 - val_auc: 0.5084 - val_threshold: 0.5743\n",
            "Epoch 10/30\n",
            "46/46 - 2s - loss: 0.0589 - accuracy: 0.9806 - auc: 0.9962 - threshold: 0.9347 - val_loss: 1.6132 - val_accuracy: 0.5238 - val_auc: 0.5036 - val_threshold: 0.6597\n",
            "Epoch 11/30\n",
            "46/46 - 2s - loss: 0.0528 - accuracy: 0.9800 - auc: 0.9973 - threshold: 0.9495 - val_loss: 1.7714 - val_accuracy: 0.5210 - val_auc: 0.5088 - val_threshold: 0.5451\n",
            "Epoch 12/30\n",
            "46/46 - 2s - loss: 0.0426 - accuracy: 0.9820 - auc: 0.9982 - threshold: 0.9453 - val_loss: 1.8701 - val_accuracy: 0.5168 - val_auc: 0.5022 - val_threshold: 0.5814\n",
            "Epoch 13/30\n",
            "46/46 - 2s - loss: 0.0383 - accuracy: 0.9841 - auc: 0.9982 - threshold: 0.9542 - val_loss: 2.1408 - val_accuracy: 0.5266 - val_auc: 0.5095 - val_threshold: 0.5215\n",
            "Epoch 14/30\n",
            "46/46 - 2s - loss: 0.0373 - accuracy: 0.9841 - auc: 0.9985 - threshold: 0.9516 - val_loss: 2.2461 - val_accuracy: 0.5140 - val_auc: 0.4975 - val_threshold: 0.5605\n",
            "Epoch 15/30\n",
            "46/46 - 2s - loss: 0.0379 - accuracy: 0.9834 - auc: 0.9983 - threshold: 0.9546 - val_loss: 2.2194 - val_accuracy: 0.5182 - val_auc: 0.5065 - val_threshold: 0.5172\n",
            "Epoch 16/30\n",
            "46/46 - 2s - loss: 0.0378 - accuracy: 0.9841 - auc: 0.9985 - threshold: 0.9507 - val_loss: 2.1803 - val_accuracy: 0.5126 - val_auc: 0.5053 - val_threshold: 0.5611\n",
            "Epoch 17/30\n",
            "46/46 - 2s - loss: 0.0358 - accuracy: 0.9848 - auc: 0.9983 - threshold: 0.9536 - val_loss: 2.4409 - val_accuracy: 0.5168 - val_auc: 0.5013 - val_threshold: 0.5487\n",
            "Epoch 18/30\n",
            "46/46 - 2s - loss: 0.0352 - accuracy: 0.9848 - auc: 0.9985 - threshold: 0.9586 - val_loss: 2.6224 - val_accuracy: 0.5182 - val_auc: 0.5065 - val_threshold: 0.5403\n",
            "Epoch 19/30\n",
            "46/46 - 2s - loss: 0.0356 - accuracy: 0.9848 - auc: 0.9981 - threshold: 0.9656 - val_loss: 2.7315 - val_accuracy: 0.5210 - val_auc: 0.5079 - val_threshold: 0.5278\n",
            "Epoch 20/30\n",
            "46/46 - 2s - loss: 0.0351 - accuracy: 0.9848 - auc: 0.9983 - threshold: 0.9621 - val_loss: 2.8082 - val_accuracy: 0.5210 - val_auc: 0.5062 - val_threshold: 0.5109\n",
            "Epoch 21/30\n",
            "46/46 - 2s - loss: 0.0351 - accuracy: 0.9848 - auc: 0.9985 - threshold: 0.9602 - val_loss: 2.8802 - val_accuracy: 0.5196 - val_auc: 0.5071 - val_threshold: 0.5210\n",
            "Epoch 22/30\n",
            "46/46 - 2s - loss: 0.0349 - accuracy: 0.9848 - auc: 0.9985 - threshold: 0.9606 - val_loss: 2.9506 - val_accuracy: 0.5196 - val_auc: 0.5077 - val_threshold: 0.5213\n",
            "Epoch 23/30\n",
            "46/46 - 2s - loss: 0.0348 - accuracy: 0.9848 - auc: 0.9985 - threshold: 0.9608 - val_loss: 3.0136 - val_accuracy: 0.5182 - val_auc: 0.5077 - val_threshold: 0.5346\n",
            "Epoch 24/30\n",
            "46/46 - 2s - loss: 0.0351 - accuracy: 0.9848 - auc: 0.9984 - threshold: 0.9667 - val_loss: 3.0684 - val_accuracy: 0.5196 - val_auc: 0.5071 - val_threshold: 0.5341\n",
            "Epoch 25/30\n",
            "46/46 - 2s - loss: 0.0349 - accuracy: 0.9848 - auc: 0.9985 - threshold: 0.9675 - val_loss: 3.1005 - val_accuracy: 0.5182 - val_auc: 0.5062 - val_threshold: 0.5239\n",
            "Epoch 26/30\n",
            "46/46 - 2s - loss: 0.0347 - accuracy: 0.9848 - auc: 0.9985 - threshold: 0.9553 - val_loss: 3.1618 - val_accuracy: 0.5196 - val_auc: 0.5067 - val_threshold: 0.5162\n"
          ],
          "name": "stdout"
        },
        {
          "output_type": "stream",
          "text": [
            "/usr/local/lib/python3.7/dist-packages/sklearn/metrics/_ranking.py:808: UndefinedMetricWarning: No positive samples in y_true, true positive value should be meaningless\n",
            "  UndefinedMetricWarning)\n"
          ],
          "name": "stderr"
        },
        {
          "output_type": "stream",
          "text": [
            "Epoch 27/30\n",
            "46/46 - 2s - loss: 0.0351 - accuracy: 0.9841 - auc: 0.9983 - threshold: 0.9619 - val_loss: 3.2031 - val_accuracy: 0.5168 - val_auc: 0.5055 - val_threshold: 0.5221\n",
            "Epoch 28/30\n",
            "46/46 - 2s - loss: 0.0358 - accuracy: 0.9848 - auc: 0.9984 - threshold: 0.9691 - val_loss: 3.2258 - val_accuracy: 0.5210 - val_auc: 0.5063 - val_threshold: 0.5188\n",
            "Epoch 29/30\n",
            "46/46 - 2s - loss: 0.0345 - accuracy: 0.9848 - auc: 0.9984 - threshold: 0.9590 - val_loss: 3.2563 - val_accuracy: 0.5224 - val_auc: 0.5055 - val_threshold: 0.5283\n",
            "Epoch 30/30\n",
            "46/46 - 2s - loss: 0.0349 - accuracy: 0.9848 - auc: 0.9986 - threshold: 0.9688 - val_loss: 3.2962 - val_accuracy: 0.5210 - val_auc: 0.5061 - val_threshold: 0.5257\n"
          ],
          "name": "stdout"
        }
      ]
    },
    {
      "cell_type": "code",
      "metadata": {
        "colab": {
          "base_uri": "https://localhost:8080/",
          "height": 281
        },
        "id": "fFA7iOPvOqQO",
        "outputId": "a8d149b5-aed0-4711-f3f4-ac4705bbe09e"
      },
      "source": [
        "plt.plot(history.history['val_loss'])\n",
        "plt.title(\"Loss\")\n",
        "plt.show()"
      ],
      "execution_count": null,
      "outputs": [
        {
          "output_type": "display_data",
          "data": {
            "image/png": "[encoded data removed]",
            "text/plain": [
              "<Figure size 432x288 with 1 Axes>"
            ]
          },
          "metadata": {
            "tags": [],
            "needs_background": "light"
          }
        }
      ]
    },
    {
      "cell_type": "code",
      "metadata": {
        "colab": {
          "base_uri": "https://localhost:8080/",
          "height": 281
        },
        "id": "2mzIRSZ3Q33P",
        "outputId": "4d1f5504-097d-45ba-dc77-aa93fd689785"
      },
      "source": [
        "plt.plot(history.history['val_auc'])\n",
        "plt.title(\"Accuracy\")\n",
        "plt.show()"
      ],
      "execution_count": null,
      "outputs": [
        {
          "output_type": "display_data",
          "data": {
            "image/png": "[encoded data removed]",
            "text/plain": [
              "<Figure size 432x288 with 1 Axes>"
            ]
          },
          "metadata": {
            "tags": [],
            "needs_background": "light"
          }
        }
      ]
    },
    {
      "cell_type": "code",
      "metadata": {
        "colab": {
          "base_uri": "https://localhost:8080/",
          "height": 623
        },
        "id": "hsccDCp3leQQ",
        "outputId": "ed8578bf-68a8-482b-d707-786c666bd62d"
      },
      "source": [
        "pred = predict(X_test['clean_sent'],model_lstm,th = 0.5257)\n",
        "result = metrics(y_test,pred)"
      ],
      "execution_count": null,
      "outputs": [
        {
          "output_type": "display_data",
          "data": {
            "image/png": "[encoded data removed]",
            "text/plain": [
              "<Figure size 432x288 with 2 Axes>"
            ]
          },
          "metadata": {
            "tags": [],
            "needs_background": "light"
          }
        },
        {
          "output_type": "stream",
          "text": [
            "#####################\n",
            "accuracy: 0.5004694835680751\n",
            "#####################\n",
            "#####################\n",
            "auc_score: 0.5\n",
            "#####################\n",
            "#####################\n",
            "classsifciation Report               precision    recall  f1-score   support\n",
            "\n",
            "           0       0.50      1.00      0.67       533\n",
            "           1       0.00      0.00      0.00       532\n",
            "\n",
            "    accuracy                           0.50      1065\n",
            "   macro avg       0.25      0.50      0.33      1065\n",
            "weighted avg       0.25      0.50      0.33      1065\n",
            "\n",
            "#####################\n"
          ],
          "name": "stdout"
        },
        {
          "output_type": "stream",
          "text": [
            "/usr/local/lib/python3.7/dist-packages/sklearn/metrics/_classification.py:1272: UndefinedMetricWarning: Precision and F-score are ill-defined and being set to 0.0 in labels with no predicted samples. Use `zero_division` parameter to control this behavior.\n",
            "  _warn_prf(average, modifier, msg_start, len(result))\n"
          ],
          "name": "stderr"
        }
      ]
    },
    {
      "cell_type": "markdown",
      "metadata": {
        "id": "Nk0NahsMR3mX"
      },
      "source": [
        "### LSTM Bidirectional Model"
      ]
    },
    {
      "cell_type": "code",
      "metadata": {
        "colab": {
          "base_uri": "https://localhost:8080/"
        },
        "id": "XvoxROWTR3m8",
        "outputId": "71893ad1-2090-4f70-c409-470f7866dbbd"
      },
      "source": [
        "tf.keras.backend.clear_session()\n",
        "inputs = Input(name='inputs',shape=(25,))\n",
        "layer = Embedding(input_dim=vocab_size+1,output_dim=64,mask_zero=True)(inputs)\n",
        "layer = Bidirectional(LSTM(64))(layer)\n",
        "layer = Dense(256,activation='relu')(layer)\n",
        "layer = Dense(64,activation='relu')(layer)\n",
        "output = Dense(1,activation='sigmoid')(layer)\n",
        "\n",
        "model_bidir = Model(inputs=inputs,outputs=output)\n",
        "\n",
        "model_bidir.compile(optimizer=tf.keras.optimizers.Adam(),\n",
        "                   loss='binary_crossentropy',\n",
        "                   metrics=['accuracy',tf.keras.metrics.AUC(),threshold])\n",
        "model_bidir.summary()"
      ],
      "execution_count": null,
      "outputs": [
        {
          "output_type": "stream",
          "text": [
            "Model: \"model\"\n",
            "_________________________________________________________________\n",
            "Layer (type)                 Output Shape              Param #   \n",
            "=================================================================\n",
            "inputs (InputLayer)          [(None, 25)]              0         \n",
            "_________________________________________________________________\n",
            "embedding (Embedding)        (None, 25, 64)            754496    \n",
            "_________________________________________________________________\n",
            "bidirectional (Bidirectional (None, 128)               66048     \n",
            "_________________________________________________________________\n",
            "dense (Dense)                (None, 256)               33024     \n",
            "_________________________________________________________________\n",
            "dense_1 (Dense)              (None, 64)                16448     \n",
            "_________________________________________________________________\n",
            "dense_2 (Dense)              (None, 1)                 65        \n",
            "=================================================================\n",
            "Total params: 870,081\n",
            "Trainable params: 870,081\n",
            "Non-trainable params: 0\n",
            "_________________________________________________________________\n"
          ],
          "name": "stdout"
        }
      ]
    },
    {
      "cell_type": "code",
      "metadata": {
        "colab": {
          "base_uri": "https://localhost:8080/"
        },
        "id": "zJyR54f4R3m_",
        "outputId": "3425c40d-893f-46b9-c99d-ee02e5bed4f8"
      },
      "source": [
        "history = model_bidir.fit(padded_train,y_train,validation_data=(padded_cv,y_cv),epochs=30,verbose=2)"
      ],
      "execution_count": null,
      "outputs": [
        {
          "output_type": "stream",
          "text": [
            "Epoch 1/30\n",
            "46/46 - 11s - loss: 0.6944 - accuracy: 0.5162 - auc: 0.5269 - threshold: 0.5337 - val_loss: 0.6928 - val_accuracy: 0.5070 - val_auc: 0.5349 - val_threshold: 0.5616\n",
            "Epoch 2/30\n",
            "46/46 - 3s - loss: 0.6225 - accuracy: 0.7070 - auc: 0.7791 - threshold: 0.5776 - val_loss: 0.7500 - val_accuracy: 0.5476 - val_auc: 0.5670 - val_threshold: 0.5621\n",
            "Epoch 3/30\n",
            "46/46 - 3s - loss: 0.2530 - accuracy: 0.9122 - auc: 0.9614 - threshold: 0.7199 - val_loss: 1.0750 - val_accuracy: 0.5602 - val_auc: 0.5664 - val_threshold: 0.4828\n",
            "Epoch 4/30\n",
            "46/46 - 3s - loss: 0.0934 - accuracy: 0.9710 - auc: 0.9930 - threshold: 0.8966 - val_loss: 1.2590 - val_accuracy: 0.5560 - val_auc: 0.5588 - val_threshold: 0.5526\n",
            "Epoch 5/30\n",
            "46/46 - 3s - loss: 0.0658 - accuracy: 0.9793 - auc: 0.9960 - threshold: 0.9260 - val_loss: 1.4282 - val_accuracy: 0.5378 - val_auc: 0.5413 - val_threshold: 0.6113\n",
            "Epoch 6/30\n",
            "46/46 - 3s - loss: 0.0578 - accuracy: 0.9813 - auc: 0.9969 - threshold: 0.9316 - val_loss: 1.5303 - val_accuracy: 0.5350 - val_auc: 0.5358 - val_threshold: 0.6235\n",
            "Epoch 7/30\n",
            "46/46 - 3s - loss: 0.0582 - accuracy: 0.9793 - auc: 0.9966 - threshold: 0.9402 - val_loss: 1.5015 - val_accuracy: 0.5546 - val_auc: 0.5494 - val_threshold: 0.5153\n",
            "Epoch 8/30\n",
            "46/46 - 3s - loss: 0.0490 - accuracy: 0.9820 - auc: 0.9980 - threshold: 0.9400 - val_loss: 1.5451 - val_accuracy: 0.5448 - val_auc: 0.5409 - val_threshold: 0.5650\n",
            "Epoch 9/30\n",
            "46/46 - 4s - loss: 0.0440 - accuracy: 0.9820 - auc: 0.9981 - threshold: 0.9471 - val_loss: 1.6172 - val_accuracy: 0.5392 - val_auc: 0.5404 - val_threshold: 0.5652\n",
            "Epoch 10/30\n",
            "46/46 - 3s - loss: 0.0389 - accuracy: 0.9827 - auc: 0.9984 - threshold: 0.9472 - val_loss: 1.8993 - val_accuracy: 0.5308 - val_auc: 0.5384 - val_threshold: 0.5887\n",
            "Epoch 11/30\n",
            "46/46 - 3s - loss: 0.0379 - accuracy: 0.9841 - auc: 0.9982 - threshold: 0.9580 - val_loss: 2.1303 - val_accuracy: 0.5546 - val_auc: 0.5436 - val_threshold: 0.5492\n",
            "Epoch 12/30\n",
            "46/46 - 3s - loss: 0.0376 - accuracy: 0.9848 - auc: 0.9984 - threshold: 0.9520 - val_loss: 2.1928 - val_accuracy: 0.5518 - val_auc: 0.5395 - val_threshold: 0.5346\n",
            "Epoch 13/30\n",
            "46/46 - 3s - loss: 0.0359 - accuracy: 0.9848 - auc: 0.9984 - threshold: 0.9555 - val_loss: 2.2994 - val_accuracy: 0.5434 - val_auc: 0.5344 - val_threshold: 0.5744\n",
            "Epoch 14/30\n",
            "46/46 - 3s - loss: 0.0350 - accuracy: 0.9848 - auc: 0.9984 - threshold: 0.9586 - val_loss: 2.4630 - val_accuracy: 0.5476 - val_auc: 0.5382 - val_threshold: 0.5424\n",
            "Epoch 15/30\n",
            "46/46 - 3s - loss: 0.0347 - accuracy: 0.9841 - auc: 0.9984 - threshold: 0.9589 - val_loss: 2.6072 - val_accuracy: 0.5476 - val_auc: 0.5409 - val_threshold: 0.5405\n",
            "Epoch 16/30\n",
            "46/46 - 3s - loss: 0.0346 - accuracy: 0.9834 - auc: 0.9984 - threshold: 0.9631 - val_loss: 2.7005 - val_accuracy: 0.5504 - val_auc: 0.5416 - val_threshold: 0.5507\n",
            "Epoch 17/30\n"
          ],
          "name": "stdout"
        },
        {
          "output_type": "stream",
          "text": [
            "/usr/local/lib/python3.7/dist-packages/sklearn/metrics/_ranking.py:808: UndefinedMetricWarning: No positive samples in y_true, true positive value should be meaningless\n",
            "  UndefinedMetricWarning)\n"
          ],
          "name": "stderr"
        },
        {
          "output_type": "stream",
          "text": [
            "46/46 - 3s - loss: 0.0351 - accuracy: 0.9848 - auc: 0.9985 - threshold: 0.9594 - val_loss: 2.8032 - val_accuracy: 0.5504 - val_auc: 0.5401 - val_threshold: 0.5411\n",
            "Epoch 18/30\n",
            "46/46 - 3s - loss: 0.0344 - accuracy: 0.9841 - auc: 0.9986 - threshold: 0.9619 - val_loss: 2.8270 - val_accuracy: 0.5504 - val_auc: 0.5411 - val_threshold: 0.5240\n",
            "Epoch 19/30\n",
            "46/46 - 3s - loss: 0.0346 - accuracy: 0.9834 - auc: 0.9984 - threshold: 0.9619 - val_loss: 2.9323 - val_accuracy: 0.5546 - val_auc: 0.5412 - val_threshold: 0.5413\n",
            "Epoch 20/30\n",
            "46/46 - 3s - loss: 0.0345 - accuracy: 0.9848 - auc: 0.9983 - threshold: 0.9634 - val_loss: 2.9871 - val_accuracy: 0.5546 - val_auc: 0.5411 - val_threshold: 0.5419\n",
            "Epoch 21/30\n",
            "46/46 - 3s - loss: 0.0344 - accuracy: 0.9834 - auc: 0.9983 - threshold: 0.9603 - val_loss: 3.0335 - val_accuracy: 0.5546 - val_auc: 0.5411 - val_threshold: 0.5453\n",
            "Epoch 22/30\n",
            "46/46 - 3s - loss: 0.0347 - accuracy: 0.9848 - auc: 0.9984 - threshold: 0.9574 - val_loss: 3.0783 - val_accuracy: 0.5518 - val_auc: 0.5421 - val_threshold: 0.5405\n",
            "Epoch 23/30\n",
            "46/46 - 3s - loss: 0.0347 - accuracy: 0.9834 - auc: 0.9983 - threshold: 0.9656 - val_loss: 3.1408 - val_accuracy: 0.5546 - val_auc: 0.5436 - val_threshold: 0.5438\n",
            "Epoch 24/30\n",
            "46/46 - 3s - loss: 0.0344 - accuracy: 0.9848 - auc: 0.9983 - threshold: 0.9608 - val_loss: 3.1885 - val_accuracy: 0.5546 - val_auc: 0.5443 - val_threshold: 0.5429\n",
            "Epoch 25/30\n",
            "46/46 - 3s - loss: 0.0344 - accuracy: 0.9827 - auc: 0.9986 - threshold: 0.9583 - val_loss: 3.2171 - val_accuracy: 0.5546 - val_auc: 0.5432 - val_threshold: 0.5481\n",
            "Epoch 26/30\n",
            "46/46 - 3s - loss: 0.0354 - accuracy: 0.9848 - auc: 0.9984 - threshold: 0.9668 - val_loss: 3.2421 - val_accuracy: 0.5560 - val_auc: 0.5434 - val_threshold: 0.5430\n",
            "Epoch 27/30\n",
            "46/46 - 3s - loss: 0.0348 - accuracy: 0.9848 - auc: 0.9986 - threshold: 0.9559 - val_loss: 3.2340 - val_accuracy: 0.5532 - val_auc: 0.5436 - val_threshold: 0.5404\n",
            "Epoch 28/30\n",
            "46/46 - 3s - loss: 0.0343 - accuracy: 0.9827 - auc: 0.9986 - threshold: 0.9630 - val_loss: 3.3173 - val_accuracy: 0.5588 - val_auc: 0.5442 - val_threshold: 0.5599\n",
            "Epoch 29/30\n",
            "46/46 - 3s - loss: 0.0348 - accuracy: 0.9848 - auc: 0.9984 - threshold: 0.9616 - val_loss: 3.3446 - val_accuracy: 0.5560 - val_auc: 0.5423 - val_threshold: 0.5466\n",
            "Epoch 30/30\n",
            "46/46 - 3s - loss: 0.0345 - accuracy: 0.9848 - auc: 0.9984 - threshold: 0.9639 - val_loss: 3.3720 - val_accuracy: 0.5560 - val_auc: 0.5421 - val_threshold: 0.5480\n"
          ],
          "name": "stdout"
        }
      ]
    },
    {
      "cell_type": "code",
      "metadata": {
        "colab": {
          "base_uri": "https://localhost:8080/",
          "height": 281
        },
        "id": "B2BTO3gWR3nA",
        "outputId": "706c21e7-e9ff-48b3-d858-3e3c76267483"
      },
      "source": [
        "plt.plot(history.history['val_loss'])\n",
        "plt.title(\"Loss\")\n",
        "plt.show()"
      ],
      "execution_count": null,
      "outputs": [
        {
          "output_type": "display_data",
          "data": {
            "image/png": "[encoded data removed]",
            "text/plain": [
              "<Figure size 432x288 with 1 Axes>"
            ]
          },
          "metadata": {
            "tags": [],
            "needs_background": "light"
          }
        }
      ]
    },
    {
      "cell_type": "code",
      "metadata": {
        "colab": {
          "base_uri": "https://localhost:8080/",
          "height": 281
        },
        "id": "QZmnOsCwR3nB",
        "outputId": "4826df5b-ebbe-4a6e-f53e-90ae840b5f43"
      },
      "source": [
        "plt.plot(history.history['val_auc'])\n",
        "plt.title(\"Accuracy\")\n",
        "plt.show()"
      ],
      "execution_count": null,
      "outputs": [
        {
          "output_type": "display_data",
          "data": {
            "image/png": "[encoded data removed]",
            "text/plain": [
              "<Figure size 432x288 with 1 Axes>"
            ]
          },
          "metadata": {
            "tags": [],
            "needs_background": "light"
          }
        }
      ]
    },
    {
      "cell_type": "code",
      "metadata": {
        "colab": {
          "base_uri": "https://localhost:8080/",
          "height": 567
        },
        "id": "19tVuFt4p5Qj",
        "outputId": "a541e906-c2c8-47ac-c6ff-a48f4899ff70"
      },
      "source": [
        "pred = predict(X_test['clean_sent'],model_bidir,th = 0.5257)\n",
        "result = metrics(y_test,pred)"
      ],
      "execution_count": null,
      "outputs": [
        {
          "output_type": "display_data",
          "data": {
            "image/png": "[encoded data removed]",
            "text/plain": [
              "<Figure size 432x288 with 2 Axes>"
            ]
          },
          "metadata": {
            "tags": [],
            "needs_background": "light"
          }
        },
        {
          "output_type": "stream",
          "text": [
            "#####################\n",
            "accuracy: 0.5126760563380282\n",
            "#####################\n",
            "#####################\n",
            "auc_score: 0.5127082481061942\n",
            "#####################\n",
            "#####################\n",
            "classsifciation Report               precision    recall  f1-score   support\n",
            "\n",
            "           0       0.51      0.48      0.50       533\n",
            "           1       0.51      0.55      0.53       532\n",
            "\n",
            "    accuracy                           0.51      1065\n",
            "   macro avg       0.51      0.51      0.51      1065\n",
            "weighted avg       0.51      0.51      0.51      1065\n",
            "\n",
            "#####################\n"
          ],
          "name": "stdout"
        }
      ]
    },
    {
      "cell_type": "markdown",
      "metadata": {
        "id": "chVqNVG9VD92"
      },
      "source": [
        "### BERT - Distilbert"
      ]
    },
    {
      "cell_type": "code",
      "metadata": {
        "id": "ljKxHGB_Snnb"
      },
      "source": [
        "# !pip install ktrain\n",
        "import ktrain\n",
        "from ktrain import text"
      ],
      "execution_count": null,
      "outputs": []
    },
    {
      "cell_type": "code",
      "metadata": {
        "colab": {
          "base_uri": "https://localhost:8080/",
          "height": 67,
          "referenced_widgets": [
            "08a1a405b32d444b8e6bfb7414601e03",
            "42ef76732ae84f5e8412326c2bbe1362",
            "68f88697cdd0415a9605263ae68a16cb",
            "d8e496a577a64fd5a9eb3559d051df01",
            "e3db465e85d840f6bc69cc29e93645e1",
            "9bc03657e516420f8d477ce8a89036a9",
            "31ee74ef6d834363af250db46ab0d042",
            "40427c748d314121853eb195867efcc3"
          ]
        },
        "id": "rbv9beyAsody",
        "outputId": "15035e75-b0e9-4cce-eb56-ed362a2ecad3"
      },
      "source": [
        "model_name = 'distilbert-base-uncased'\n",
        "\n",
        "transformer = text.Transformer(model_name,maxlen=25,class_names=[0,1])"
      ],
      "execution_count": null,
      "outputs": [
        {
          "output_type": "display_data",
          "data": {
            "application/vnd.jupyter.widget-view+json": {
              "model_id": "08a1a405b32d444b8e6bfb7414601e03",
              "version_minor": 0,
              "version_major": 2
            },
            "text/plain": [
              "HBox(children=(FloatProgress(value=0.0, description='Downloading', max=442.0, style=ProgressStyle(description_…"
            ]
          },
          "metadata": {
            "tags": []
          }
        },
        {
          "output_type": "stream",
          "text": [
            "\n"
          ],
          "name": "stdout"
        }
      ]
    },
    {
      "cell_type": "code",
      "metadata": {
        "colab": {
          "base_uri": "https://localhost:8080/",
          "height": 348,
          "referenced_widgets": [
            "ee9adbac68904913adfe3ee290d2c16b",
            "28d5486137f14a388d38624482f75e10",
            "ed50a5b84682420ba60a640d19d9b56a",
            "69845ad9842b4c5d996ff6216045fd26",
            "4c9e0bd3d93b4c59b5af77b1d7b70eb6",
            "7852ba2acdd54c91a3b1b0911129eefe",
            "a2a8dcbaff984e568d50c118cd7ede21",
            "2e2d84cc02f34398b6ec7f37c354fcc3",
            "8f6196292bff4acb93c6481af3697e2c",
            "d6511532b2754d12af2d4d3c1e239896",
            "92689efe6caa4ca494bf52b42628135e",
            "4ed5af87b3f94770802a172704db20c8",
            "dab5ea65147f44858acca380bce3f7f2",
            "f7d8969d9d2e43b58cacfa3d853e500c",
            "b28c746137624e07946c26240fe44a3e",
            "8e17f2e5697c4b0c96f8e2be19226fc9"
          ]
        },
        "id": "zhEsZeq-Sd_D",
        "outputId": "6ce6610f-04dd-48f8-e759-62364af784fc"
      },
      "source": [
        "train_data = transformer.preprocess_train(np.array(X_train['clean_sent']),np.array(y_train))\n",
        "validation_data = transformer.preprocess_test(np.array(X_cv['clean_sent']),np.array(y_cv))"
      ],
      "execution_count": null,
      "outputs": [
        {
          "output_type": "stream",
          "text": [
            "preprocessing train...\n",
            "language: en\n",
            "train sequence lengths:\n",
            "\tmean : 20\n",
            "\t95percentile : 50\n",
            "\t99percentile : 105\n"
          ],
          "name": "stdout"
        },
        {
          "output_type": "display_data",
          "data": {
            "application/vnd.jupyter.widget-view+json": {
              "model_id": "ee9adbac68904913adfe3ee290d2c16b",
              "version_minor": 0,
              "version_major": 2
            },
            "text/plain": [
              "HBox(children=(FloatProgress(value=0.0, description='Downloading', max=231508.0, style=ProgressStyle(descripti…"
            ]
          },
          "metadata": {
            "tags": []
          }
        },
        {
          "output_type": "stream",
          "text": [
            "\n"
          ],
          "name": "stdout"
        },
        {
          "output_type": "display_data",
          "data": {
            "application/vnd.jupyter.widget-view+json": {
              "model_id": "8f6196292bff4acb93c6481af3697e2c",
              "version_minor": 0,
              "version_major": 2
            },
            "text/plain": [
              "HBox(children=(FloatProgress(value=0.0, description='Downloading', max=466062.0, style=ProgressStyle(descripti…"
            ]
          },
          "metadata": {
            "tags": []
          }
        },
        {
          "output_type": "stream",
          "text": [
            "\n"
          ],
          "name": "stdout"
        },
        {
          "output_type": "display_data",
          "data": {
            "text/html": [
              ""
            ],
            "text/plain": [
              "<IPython.core.display.HTML object>"
            ]
          },
          "metadata": {
            "tags": []
          }
        },
        {
          "output_type": "stream",
          "text": [
            "Is Multi-Label? False\n",
            "preprocessing test...\n",
            "language: en\n",
            "test sequence lengths:\n",
            "\tmean : 20\n",
            "\t95percentile : 54\n",
            "\t99percentile : 110\n"
          ],
          "name": "stdout"
        },
        {
          "output_type": "display_data",
          "data": {
            "text/html": [
              ""
            ],
            "text/plain": [
              "<IPython.core.display.HTML object>"
            ]
          },
          "metadata": {
            "tags": []
          }
        }
      ]
    },
    {
      "cell_type": "code",
      "metadata": {
        "colab": {
          "base_uri": "https://localhost:8080/",
          "height": 67,
          "referenced_widgets": [
            "b501299440fe4c4695c8190492fd3029",
            "59837276ffb449db80bf222c994012f5",
            "4a3bc5f444414d9d87a39b01201df4c4",
            "7fd1985f413d491c993945cd322d3660",
            "35b1d89e4b1044409f62335c926b18ce",
            "724f8b690c964ed3947483f0c1fb6f9d",
            "92c4242407f944e2b5ef2ff2f012de0b",
            "c2acc8df01a1437bacfcf2f4dc5f3774"
          ]
        },
        "id": "c6eQYKapU4HO",
        "outputId": "50d15646-3008-4cda-fea8-6967597ea621"
      },
      "source": [
        "model = transformer.get_classifier()"
      ],
      "execution_count": null,
      "outputs": [
        {
          "output_type": "display_data",
          "data": {
            "application/vnd.jupyter.widget-view+json": {
              "model_id": "b501299440fe4c4695c8190492fd3029",
              "version_minor": 0,
              "version_major": 2
            },
            "text/plain": [
              "HBox(children=(FloatProgress(value=0.0, description='Downloading', max=363423424.0, style=ProgressStyle(descri…"
            ]
          },
          "metadata": {
            "tags": []
          }
        },
        {
          "output_type": "stream",
          "text": [
            "\n"
          ],
          "name": "stdout"
        }
      ]
    },
    {
      "cell_type": "code",
      "metadata": {
        "id": "IlVDlNh0T6no"
      },
      "source": [
        "learner = ktrain.get_learner(model,train_data=train_data,val_data=validation_data)"
      ],
      "execution_count": null,
      "outputs": []
    },
    {
      "cell_type": "code",
      "metadata": {
        "colab": {
          "base_uri": "https://localhost:8080/",
          "height": 514
        },
        "id": "-Mbo9dPLUQX-",
        "outputId": "13c71d04-38f5-46b1-b649-c50ee3e744f6"
      },
      "source": [
        "learner.lr_find(show_plot=True,max_epochs=5)"
      ],
      "execution_count": null,
      "outputs": [
        {
          "output_type": "stream",
          "text": [
            "simulating training for different learning rates... this may take a few moments...\n",
            "Epoch 1/5\n",
            "45/45 [==============================] - 12s 68ms/step - loss: 0.7005 - accuracy: 0.4951\n",
            "Epoch 2/5\n",
            "45/45 [==============================] - 3s 73ms/step - loss: 0.6914 - accuracy: 0.5353\n",
            "Epoch 3/5\n",
            "45/45 [==============================] - 3s 72ms/step - loss: 0.6862 - accuracy: 0.5547\n",
            "Epoch 4/5\n",
            "45/45 [==============================] - 3s 68ms/step - loss: 4.5352 - accuracy: 0.5110\n",
            "\n",
            "\n",
            "done.\n",
            "Visually inspect loss plot and select learning rate associated with falling loss\n"
          ],
          "name": "stdout"
        },
        {
          "output_type": "display_data",
          "data": {
            "image/png": "[encoded data removed]",
            "text/plain": [
              "<Figure size 432x288 with 1 Axes>"
            ]
          },
          "metadata": {
            "tags": [],
            "needs_background": "light"
          }
        }
      ]
    },
    {
      "cell_type": "code",
      "metadata": {
        "colab": {
          "base_uri": "https://localhost:8080/"
        },
        "id": "uegYdZtMVHZE",
        "outputId": "88513809-282a-46bf-9121-7b79ab3468d6"
      },
      "source": [
        "learner.fit(learner.lr_estimate()[0],10)"
      ],
      "execution_count": null,
      "outputs": [
        {
          "output_type": "stream",
          "text": [
            "Epoch 1/10\n",
            "46/46 [==============================] - 12s 110ms/step - loss: 0.6942 - accuracy: 0.5246 - val_loss: 0.6830 - val_accuracy: 0.5602\n",
            "Epoch 2/10\n",
            "46/46 [==============================] - 4s 81ms/step - loss: 0.6623 - accuracy: 0.6231 - val_loss: 0.6817 - val_accuracy: 0.5994\n",
            "Epoch 3/10\n",
            "46/46 [==============================] - 4s 81ms/step - loss: 0.6111 - accuracy: 0.6718 - val_loss: 0.7149 - val_accuracy: 0.5322\n",
            "Epoch 4/10\n",
            "46/46 [==============================] - 4s 81ms/step - loss: 0.5518 - accuracy: 0.7204 - val_loss: 0.7394 - val_accuracy: 0.5742\n",
            "Epoch 5/10\n",
            "46/46 [==============================] - 4s 81ms/step - loss: 0.4177 - accuracy: 0.8390 - val_loss: 0.8867 - val_accuracy: 0.5560\n",
            "Epoch 6/10\n",
            "46/46 [==============================] - 4s 81ms/step - loss: 0.2818 - accuracy: 0.8977 - val_loss: 1.0414 - val_accuracy: 0.5448\n",
            "Epoch 7/10\n",
            "46/46 [==============================] - 4s 81ms/step - loss: 0.1680 - accuracy: 0.9547 - val_loss: 1.1804 - val_accuracy: 0.5280\n",
            "Epoch 8/10\n",
            "46/46 [==============================] - 4s 81ms/step - loss: 0.1067 - accuracy: 0.9737 - val_loss: 1.3702 - val_accuracy: 0.5462\n",
            "Epoch 9/10\n",
            "46/46 [==============================] - 4s 81ms/step - loss: 0.0867 - accuracy: 0.9799 - val_loss: 1.5288 - val_accuracy: 0.5266\n",
            "Epoch 10/10\n",
            "46/46 [==============================] - 4s 81ms/step - loss: 0.0526 - accuracy: 0.9889 - val_loss: 1.6073 - val_accuracy: 0.5518\n"
          ],
          "name": "stdout"
        },
        {
          "output_type": "execute_result",
          "data": {
            "text/plain": [
              "<tensorflow.python.keras.callbacks.History at 0x7f88b6f41a50>"
            ]
          },
          "metadata": {
            "tags": []
          },
          "execution_count": 36
        }
      ]
    },
    {
      "cell_type": "code",
      "metadata": {
        "colab": {
          "base_uri": "https://localhost:8080/"
        },
        "id": "9TKZUt1lVaeb",
        "outputId": "5349249e-6af5-413f-f5ad-85ebf92b3f77"
      },
      "source": [
        "learner.validate()"
      ],
      "execution_count": null,
      "outputs": [
        {
          "output_type": "stream",
          "text": [
            "              precision    recall  f1-score   support\n",
            "\n",
            "           0       0.55      0.54      0.55       357\n",
            "           1       0.55      0.56      0.56       357\n",
            "\n",
            "    accuracy                           0.55       714\n",
            "   macro avg       0.55      0.55      0.55       714\n",
            "weighted avg       0.55      0.55      0.55       714\n",
            "\n"
          ],
          "name": "stdout"
        },
        {
          "output_type": "execute_result",
          "data": {
            "text/plain": [
              "array([[193, 164],\n",
              "       [156, 201]])"
            ]
          },
          "metadata": {
            "tags": []
          },
          "execution_count": 37
        }
      ]
    },
    {
      "cell_type": "code",
      "metadata": {
        "colab": {
          "base_uri": "https://localhost:8080/"
        },
        "id": "cpbA73ADVuUs",
        "outputId": "5dae5555-6b71-4a01-beb3-bfe50599b1cf"
      },
      "source": [
        "learner.view_top_losses(n=5,preproc=transformer)"
      ],
      "execution_count": null,
      "outputs": [
        {
          "output_type": "stream",
          "text": [
            "----------\n",
            "id:487 | loss:5.82 | true:1 | pred:0)\n",
            "\n",
            "----------\n",
            "id:467 | loss:5.79 | true:1 | pred:0)\n",
            "\n",
            "----------\n",
            "id:265 | loss:5.77 | true:1 | pred:0)\n",
            "\n",
            "----------\n",
            "id:335 | loss:5.73 | true:1 | pred:0)\n",
            "\n",
            "----------\n",
            "id:337 | loss:5.71 | true:1 | pred:0)\n",
            "\n"
          ],
          "name": "stdout"
        }
      ]
    },
    {
      "cell_type": "code",
      "metadata": {
        "colab": {
          "base_uri": "https://localhost:8080/",
          "height": 36
        },
        "id": "2rQvqOQCV1mH",
        "outputId": "e34bdc9c-47e8-4abc-d45a-773ac7789e24"
      },
      "source": [
        "X_cv.iloc[487]['clean_sent']"
      ],
      "execution_count": null,
      "outputs": [
        {
          "output_type": "execute_result",
          "data": {
            "application/vnd.google.colaboratory.intrinsic+json": {
              "type": "string"
            },
            "text/plain": [
              "'me other   don t have a girlfriend iol girl'"
            ]
          },
          "metadata": {
            "tags": []
          },
          "execution_count": 43
        }
      ]
    },
    {
      "cell_type": "code",
      "metadata": {
        "id": "QM208Bu9V_qw"
      },
      "source": [
        "predictor = ktrain.get_predictor(learner.model,preproc=transformer)"
      ],
      "execution_count": null,
      "outputs": []
    },
    {
      "cell_type": "code",
      "metadata": {
        "id": "mAIVXM-bWQR2"
      },
      "source": [
        "pred=[]\n",
        "for sent in X_test['clean_sent']:\n",
        "  pred.append(predictor.predict(sent))"
      ],
      "execution_count": null,
      "outputs": []
    },
    {
      "cell_type": "code",
      "metadata": {
        "colab": {
          "base_uri": "https://localhost:8080/",
          "height": 567
        },
        "id": "CnIv5QoCXjer",
        "outputId": "1b7662de-73c8-4678-bbd6-bb9e7d0069b4"
      },
      "source": [
        "result = metrics(y_test,pred)"
      ],
      "execution_count": null,
      "outputs": [
        {
          "output_type": "display_data",
          "data": {
            "image/png": "[encoded data removed]",
            "text/plain": [
              "<Figure size 432x288 with 2 Axes>"
            ]
          },
          "metadata": {
            "tags": [],
            "needs_background": "light"
          }
        },
        {
          "output_type": "stream",
          "text": [
            "#####################\n",
            "accuracy: 0.5558685446009389\n",
            "#####################\n",
            "#####################\n",
            "auc_score: 0.5558408215661105\n",
            "#####################\n",
            "#####################\n",
            "classsifciation Report               precision    recall  f1-score   support\n",
            "\n",
            "           0       0.56      0.53      0.54       532\n",
            "           1       0.55      0.59      0.57       533\n",
            "\n",
            "    accuracy                           0.56      1065\n",
            "   macro avg       0.56      0.56      0.56      1065\n",
            "weighted avg       0.56      0.56      0.56      1065\n",
            "\n",
            "#####################\n"
          ],
          "name": "stdout"
        }
      ]
    },
    {
      "cell_type": "markdown",
      "metadata": {
        "id": "30dROb7iYoI0"
      },
      "source": [
        "## Summary"
      ]
    },
    {
      "cell_type": "code",
      "metadata": {
        "id": "IKE7CJ68Xwms"
      },
      "source": [
        "from prettytable import PrettyTable\n",
        "x = PrettyTable()"
      ],
      "execution_count": null,
      "outputs": []
    },
    {
      "cell_type": "code",
      "metadata": {
        "id": "f90H1qltX20n"
      },
      "source": [
        "x.field_names = [\"Model\", \"Accuracy\", \"AUC\"]\n",
        "x.add_row([\"Base Simple NN\", 0.503, 0.502])\n",
        "x.add_row([\"LSTM\", 0.500, 0.5])\n",
        "x.add_row([\"LSTM Bidirectional\",0.512,0.512])\n",
        "x.add_row([\"Bert - Distilbert\",0.555,0.555])"
      ],
      "execution_count": null,
      "outputs": []
    },
    {
      "cell_type": "code",
      "metadata": {
        "colab": {
          "base_uri": "https://localhost:8080/"
        },
        "id": "eInEgzdkZLV2",
        "outputId": "5c038c0b-9b84-4b4a-8852-526aa2626fea"
      },
      "source": [
        "print(x)"
      ],
      "execution_count": null,
      "outputs": [
        {
          "output_type": "stream",
          "text": [
            "+--------------------+----------+-------+\n",
            "|       Model        | Accuracy |  AUC  |\n",
            "+--------------------+----------+-------+\n",
            "|   Base Simple NN   |  0.503   | 0.502 |\n",
            "|        LSTM        |   0.5    |  0.5  |\n",
            "| LSTM Bidirectional |  0.512   | 0.512 |\n",
            "| Bert - Distilbert  |  0.555   | 0.555 |\n",
            "+--------------------+----------+-------+\n"
          ],
          "name": "stdout"
        }
      ]
    }
  ]
}